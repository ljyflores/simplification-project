{
 "cells": [
  {
   "cell_type": "code",
   "execution_count": 1,
   "metadata": {},
   "outputs": [],
   "source": [
    "import pandas as pd\n",
    "from scipy.stats import (mannwhitneyu, wilcoxon)"
   ]
  },
  {
   "cell_type": "code",
   "execution_count": 2,
   "metadata": {},
   "outputs": [],
   "source": [
    "DATASET_NAME = \"xsum\" # [\"cochrane\",\"medeasi\",\"asset\",\"xsum\",\"cnn\"]\n",
    "MODEL_NAME = \"trained\" # [\"baseline\",\"trained\"]\n",
    "SUFFIX = \"_finetune\"\n",
    "LOGITS_PATH = f\"logits/{DATASET_NAME}_{MODEL_NAME}_logits.pt\""
   ]
  },
  {
   "cell_type": "code",
   "execution_count": 3,
   "metadata": {},
   "outputs": [],
   "source": [
    "df = pd.read_csv(f\"experiment_{DATASET_NAME}_{MODEL_NAME}{SUFFIX}.csv\")\n",
    "df = df.drop(\"nli_flag_gpt_label\", axis=1)"
   ]
  },
  {
   "cell_type": "markdown",
   "metadata": {},
   "source": [
    "### NLL\n",
    "* Mean NLL by whether it is entailed or not\n",
    "* For sentences with BOTH entailed and non-entailed, are the NLLs similar\n",
    "* If the sentence has non-entailed entities, are the NLL different if there are also entailed entities vs none?\n",
    "\n",
    "### MI\n",
    "* Mean MI by whether it is entailed or not\n",
    "* For sentences with BOTH entailed and non-entailed, are the MIs similar\n",
    "* If the sentence has non-entailed entities, are the MI different if there are also entailed entities vs none?\n"
   ]
  },
  {
   "cell_type": "code",
   "execution_count": 14,
   "metadata": {},
   "outputs": [],
   "source": [
    "# df.groupby(\"nli_flag_ent_label\").aggregate({\"mi_mean\":[\"mean\",\"std\"], \"mi_ent_0\":[\"mean\",\"std\"], \"mi_ent_1\":[\"mean\",\"std\"], \"mi_ent_-1\":[\"mean\",\"std\"]})"
   ]
  },
  {
   "cell_type": "code",
   "execution_count": 16,
   "metadata": {},
   "outputs": [
    {
     "data": {
      "text/html": [
       "<div>\n",
       "<style scoped>\n",
       "    .dataframe tbody tr th:only-of-type {\n",
       "        vertical-align: middle;\n",
       "    }\n",
       "\n",
       "    .dataframe tbody tr th {\n",
       "        vertical-align: top;\n",
       "    }\n",
       "\n",
       "    .dataframe thead tr th {\n",
       "        text-align: left;\n",
       "    }\n",
       "\n",
       "    .dataframe thead tr:last-of-type th {\n",
       "        text-align: right;\n",
       "    }\n",
       "</style>\n",
       "<table border=\"1\" class=\"dataframe\">\n",
       "  <thead>\n",
       "    <tr>\n",
       "      <th></th>\n",
       "      <th colspan=\"2\" halign=\"left\">nll_mean</th>\n",
       "      <th colspan=\"2\" halign=\"left\">nll_ent_-1</th>\n",
       "      <th colspan=\"2\" halign=\"left\">nll_ent_1</th>\n",
       "      <th colspan=\"2\" halign=\"left\">nll_ent_0</th>\n",
       "    </tr>\n",
       "    <tr>\n",
       "      <th></th>\n",
       "      <th>mean</th>\n",
       "      <th>std</th>\n",
       "      <th>mean</th>\n",
       "      <th>std</th>\n",
       "      <th>mean</th>\n",
       "      <th>std</th>\n",
       "      <th>mean</th>\n",
       "      <th>std</th>\n",
       "    </tr>\n",
       "    <tr>\n",
       "      <th>nli_flag_ent_label</th>\n",
       "      <th></th>\n",
       "      <th></th>\n",
       "      <th></th>\n",
       "      <th></th>\n",
       "      <th></th>\n",
       "      <th></th>\n",
       "      <th></th>\n",
       "      <th></th>\n",
       "    </tr>\n",
       "  </thead>\n",
       "  <tbody>\n",
       "    <tr>\n",
       "      <th>-1</th>\n",
       "      <td>0.048788</td>\n",
       "      <td>0.022970</td>\n",
       "      <td>1.177732</td>\n",
       "      <td>2.190173</td>\n",
       "      <td>1.354346</td>\n",
       "      <td>2.454466</td>\n",
       "      <td>0.046018</td>\n",
       "      <td>0.022894</td>\n",
       "    </tr>\n",
       "    <tr>\n",
       "      <th>1</th>\n",
       "      <td>0.043194</td>\n",
       "      <td>0.018394</td>\n",
       "      <td>NaN</td>\n",
       "      <td>NaN</td>\n",
       "      <td>1.776455</td>\n",
       "      <td>2.745833</td>\n",
       "      <td>0.042980</td>\n",
       "      <td>0.018423</td>\n",
       "    </tr>\n",
       "  </tbody>\n",
       "</table>\n",
       "</div>"
      ],
      "text/plain": [
       "                    nll_mean           nll_ent_-1           nll_ent_1   \n",
       "                        mean       std       mean       std      mean   \n",
       "nli_flag_ent_label                                                      \n",
       "-1                  0.048788  0.022970   1.177732  2.190173  1.354346  \\\n",
       " 1                  0.043194  0.018394        NaN       NaN  1.776455   \n",
       "\n",
       "                             nll_ent_0            \n",
       "                         std      mean       std  \n",
       "nli_flag_ent_label                                \n",
       "-1                  2.454466  0.046018  0.022894  \n",
       " 1                  2.745833  0.042980  0.018423  "
      ]
     },
     "execution_count": 16,
     "metadata": {},
     "output_type": "execute_result"
    }
   ],
   "source": [
    "df.groupby(\"nli_flag_ent_label\").aggregate({\"nll_mean\":[\"mean\",\"std\"],\n",
    "                                            \"nll_ent_-1\":[\"mean\",\"std\"],\n",
    "                                            \"nll_ent_1\":[\"mean\",\"std\"],\n",
    "                                            \"nll_ent_0\":[\"mean\",\"std\"]})"
   ]
  },
  {
   "cell_type": "code",
   "execution_count": 6,
   "metadata": {},
   "outputs": [
    {
     "data": {
      "text/plain": [
       "MannwhitneyuResult(statistic=982606811.0, pvalue=9.232137131491471e-197)"
      ]
     },
     "execution_count": 6,
     "metadata": {},
     "output_type": "execute_result"
    }
   ],
   "source": [
    "mannwhitneyu(\n",
    "    df.loc[df.nli_flag_ent_label==1, \"nll_mean\"], \n",
    "    df.loc[df.nli_flag_ent_label==-1, \"nll_mean\"],\n",
    "    alternative=\"less\"\n",
    ")"
   ]
  },
  {
   "cell_type": "code",
   "execution_count": 7,
   "metadata": {},
   "outputs": [
    {
     "data": {
      "text/plain": [
       "nll_ent_-1    0.945795\n",
       "nll_ent_1     1.354346\n",
       "nll_ent_0     0.047574\n",
       "dtype: float64"
      ]
     },
     "execution_count": 7,
     "metadata": {},
     "output_type": "execute_result"
    }
   ],
   "source": [
    "df.loc[df[\"nll_ent_1\"].notnull()&df[\"nll_ent_-1\"].notnull(), [\"nll_ent_-1\",\"nll_ent_1\",\"nll_ent_0\"]].mean()"
   ]
  },
  {
   "cell_type": "code",
   "execution_count": 8,
   "metadata": {},
   "outputs": [
    {
     "data": {
      "text/plain": [
       "WilcoxonResult(statistic=208382.0, pvalue=0.19080187124133813)"
      ]
     },
     "execution_count": 8,
     "metadata": {},
     "output_type": "execute_result"
    }
   ],
   "source": [
    "wilcoxon(df.loc[df[\"nll_ent_1\"].notnull()&df[\"nll_ent_-1\"].notnull(), \"nll_ent_1\"],\n",
    "         df.loc[df[\"nll_ent_1\"].notnull()&df[\"nll_ent_-1\"].notnull(), \"nll_ent_-1\"],\n",
    "         alternative=\"less\")"
   ]
  },
  {
   "cell_type": "code",
   "execution_count": 17,
   "metadata": {},
   "outputs": [
    {
     "name": "stdout",
     "output_type": "stream",
     "text": [
      "Non-entailed 1.354345666298286\n",
      "Entailed 1.7764545757297614\n"
     ]
    },
    {
     "data": {
      "text/plain": [
       "MannwhitneyuResult(statistic=5486044.0, pvalue=0.0014710887429618454)"
      ]
     },
     "execution_count": 17,
     "metadata": {},
     "output_type": "execute_result"
    }
   ],
   "source": [
    "print(\"Non-entailed\", df.loc[df[\"nll_ent_1\"].notnull()&df[\"nll_ent_-1\"].notnull(), \"nll_ent_1\"].mean())\n",
    "print(\"Entailed\", df.loc[df[\"nll_ent_1\"].notnull()&df[\"nll_ent_-1\"].isnull(), \"nll_ent_1\"].mean())\n",
    "mannwhitneyu(\n",
    "    df.loc[df[\"nll_ent_1\"].notnull()&df[\"nll_ent_-1\"].notnull(), \"nll_ent_1\"],\n",
    "    df.loc[df[\"nll_ent_1\"].notnull()&df[\"nll_ent_-1\"].isnull(), \"nll_ent_1\"]\n",
    ")"
   ]
  },
  {
   "cell_type": "code",
   "execution_count": 10,
   "metadata": {},
   "outputs": [
    {
     "data": {
      "text/html": [
       "<div>\n",
       "<style scoped>\n",
       "    .dataframe tbody tr th:only-of-type {\n",
       "        vertical-align: middle;\n",
       "    }\n",
       "\n",
       "    .dataframe tbody tr th {\n",
       "        vertical-align: top;\n",
       "    }\n",
       "\n",
       "    .dataframe thead th {\n",
       "        text-align: right;\n",
       "    }\n",
       "</style>\n",
       "<table border=\"1\" class=\"dataframe\">\n",
       "  <thead>\n",
       "    <tr style=\"text-align: right;\">\n",
       "      <th></th>\n",
       "      <th>mi_mean</th>\n",
       "    </tr>\n",
       "    <tr>\n",
       "      <th>nli_flag_ent_output</th>\n",
       "      <th></th>\n",
       "    </tr>\n",
       "  </thead>\n",
       "  <tbody>\n",
       "    <tr>\n",
       "      <th>-1</th>\n",
       "      <td>NaN</td>\n",
       "    </tr>\n",
       "    <tr>\n",
       "      <th>1</th>\n",
       "      <td>NaN</td>\n",
       "    </tr>\n",
       "  </tbody>\n",
       "</table>\n",
       "</div>"
      ],
      "text/plain": [
       "                     mi_mean\n",
       "nli_flag_ent_output         \n",
       "-1                       NaN\n",
       " 1                       NaN"
      ]
     },
     "execution_count": 10,
     "metadata": {},
     "output_type": "execute_result"
    }
   ],
   "source": [
    "df.groupby(\"nli_flag_ent_output\").aggregate({\"mi_mean\":\"mean\"})"
   ]
  },
  {
   "cell_type": "code",
   "execution_count": 11,
   "metadata": {},
   "outputs": [
    {
     "data": {
      "text/plain": [
       "MannwhitneyuResult(statistic=nan, pvalue=nan)"
      ]
     },
     "execution_count": 11,
     "metadata": {},
     "output_type": "execute_result"
    }
   ],
   "source": [
    "mannwhitneyu(\n",
    "    df.loc[df.nli_flag_ent_output==1,  \"mi_mean\"], \n",
    "    df.loc[df.nli_flag_ent_output==-1, \"mi_mean\"],\n",
    "    alternative=\"less\"\n",
    ")"
   ]
  },
  {
   "cell_type": "code",
   "execution_count": 12,
   "metadata": {},
   "outputs": [
    {
     "data": {
      "text/html": [
       "<div>\n",
       "<style scoped>\n",
       "    .dataframe tbody tr th:only-of-type {\n",
       "        vertical-align: middle;\n",
       "    }\n",
       "\n",
       "    .dataframe tbody tr th {\n",
       "        vertical-align: top;\n",
       "    }\n",
       "\n",
       "    .dataframe thead tr th {\n",
       "        text-align: left;\n",
       "    }\n",
       "\n",
       "    .dataframe thead tr:last-of-type th {\n",
       "        text-align: right;\n",
       "    }\n",
       "</style>\n",
       "<table border=\"1\" class=\"dataframe\">\n",
       "  <thead>\n",
       "    <tr>\n",
       "      <th></th>\n",
       "      <th>mi_mean</th>\n",
       "      <th colspan=\"2\" halign=\"left\">mi_ent_-1</th>\n",
       "      <th colspan=\"2\" halign=\"left\">mi_ent_1</th>\n",
       "      <th colspan=\"2\" halign=\"left\">mi_ent_0</th>\n",
       "    </tr>\n",
       "    <tr>\n",
       "      <th></th>\n",
       "      <th>mean</th>\n",
       "      <th>mean</th>\n",
       "      <th>std</th>\n",
       "      <th>mean</th>\n",
       "      <th>std</th>\n",
       "      <th>mean</th>\n",
       "      <th>std</th>\n",
       "    </tr>\n",
       "    <tr>\n",
       "      <th>nli_flag_ent_output</th>\n",
       "      <th></th>\n",
       "      <th></th>\n",
       "      <th></th>\n",
       "      <th></th>\n",
       "      <th></th>\n",
       "      <th></th>\n",
       "      <th></th>\n",
       "    </tr>\n",
       "  </thead>\n",
       "  <tbody>\n",
       "    <tr>\n",
       "      <th>-1</th>\n",
       "      <td>NaN</td>\n",
       "      <td>NaN</td>\n",
       "      <td>NaN</td>\n",
       "      <td>NaN</td>\n",
       "      <td>NaN</td>\n",
       "      <td>NaN</td>\n",
       "      <td>NaN</td>\n",
       "    </tr>\n",
       "    <tr>\n",
       "      <th>1</th>\n",
       "      <td>NaN</td>\n",
       "      <td>NaN</td>\n",
       "      <td>NaN</td>\n",
       "      <td>NaN</td>\n",
       "      <td>NaN</td>\n",
       "      <td>NaN</td>\n",
       "      <td>NaN</td>\n",
       "    </tr>\n",
       "  </tbody>\n",
       "</table>\n",
       "</div>"
      ],
      "text/plain": [
       "                    mi_mean mi_ent_-1     mi_ent_1     mi_ent_0    \n",
       "                       mean      mean std     mean std     mean std\n",
       "nli_flag_ent_output                                                \n",
       "-1                      NaN       NaN NaN      NaN NaN      NaN NaN\n",
       " 1                      NaN       NaN NaN      NaN NaN      NaN NaN"
      ]
     },
     "execution_count": 12,
     "metadata": {},
     "output_type": "execute_result"
    }
   ],
   "source": [
    "df.groupby(\"nli_flag_ent_output\").aggregate({\"mi_mean\":\"mean\",\n",
    "                                             \"mi_ent_-1\":[\"mean\",\"std\"],\n",
    "                                             \"mi_ent_1\":[\"mean\",\"std\"],\n",
    "                                             \"mi_ent_0\":[\"mean\",\"std\"]})"
   ]
  },
  {
   "cell_type": "code",
   "execution_count": 13,
   "metadata": {},
   "outputs": [
    {
     "data": {
      "text/plain": [
       "mi_ent_-1   NaN\n",
       "mi_ent_1    NaN\n",
       "mi_ent_0    NaN\n",
       "dtype: float64"
      ]
     },
     "execution_count": 13,
     "metadata": {},
     "output_type": "execute_result"
    }
   ],
   "source": [
    "df.loc[df[\"mi_ent_1\"].notnull()&df[\"mi_ent_-1\"].notnull(), [\"mi_ent_-1\",\"mi_ent_1\",\"mi_ent_0\"]].mean()"
   ]
  },
  {
   "cell_type": "code",
   "execution_count": 13,
   "metadata": {},
   "outputs": [
    {
     "data": {
      "text/plain": [
       "WilcoxonResult(statistic=436893.0, pvalue=7.101690918539725e-111)"
      ]
     },
     "execution_count": 13,
     "metadata": {},
     "output_type": "execute_result"
    }
   ],
   "source": [
    "wilcoxon(df.loc[df[\"mi_ent_1\"].notnull()&df[\"mi_ent_-1\"].notnull(), \"mi_ent_-1\"],\n",
    "         df.loc[df[\"mi_ent_1\"].notnull()&df[\"mi_ent_-1\"].notnull(), \"mi_ent_1\"])"
   ]
  },
  {
   "cell_type": "code",
   "execution_count": 25,
   "metadata": {},
   "outputs": [
    {
     "name": "stdout",
     "output_type": "stream",
     "text": [
      "Non-entailed 21.177354659479768\n",
      "Entailed 21.362212979576775\n"
     ]
    },
    {
     "data": {
      "text/plain": [
       "MannwhitneyuResult(statistic=9925761.5, pvalue=0.3061356857479055)"
      ]
     },
     "execution_count": 25,
     "metadata": {},
     "output_type": "execute_result"
    }
   ],
   "source": [
    "print(\"Non-entailed\", df.loc[df[\"mi_ent_1\"].notnull()&df[\"mi_ent_-1\"].notnull(), \"mi_ent_1\"].mean())\n",
    "print(\"Entailed\", df.loc[df[\"mi_ent_1\"].notnull()&df[\"mi_ent_-1\"].isnull(), \"mi_ent_1\"].mean())\n",
    "mannwhitneyu(\n",
    "    df.loc[df[\"mi_ent_1\"].notnull()&df[\"mi_ent_-1\"].notnull(), \"mi_ent_1\"],\n",
    "    df.loc[df[\"mi_ent_1\"].notnull()&df[\"mi_ent_-1\"].isnull(), \"mi_ent_1\"]\n",
    ")"
   ]
  },
  {
   "cell_type": "code",
   "execution_count": null,
   "metadata": {},
   "outputs": [],
   "source": []
  },
  {
   "cell_type": "code",
   "execution_count": null,
   "metadata": {},
   "outputs": [],
   "source": []
  }
 ],
 "metadata": {
  "kernelspec": {
   "display_name": "simplification",
   "language": "python",
   "name": "python3"
  },
  "language_info": {
   "codemirror_mode": {
    "name": "ipython",
    "version": 3
   },
   "file_extension": ".py",
   "mimetype": "text/x-python",
   "name": "python",
   "nbconvert_exporter": "python",
   "pygments_lexer": "ipython3",
   "version": "3.8.16"
  },
  "orig_nbformat": 4
 },
 "nbformat": 4,
 "nbformat_minor": 2
}

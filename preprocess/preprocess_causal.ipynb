{
 "cells": [
  {
   "cell_type": "code",
   "execution_count": 1,
   "metadata": {},
   "outputs": [],
   "source": [
    "import json"
   ]
  },
  {
   "cell_type": "code",
   "execution_count": null,
   "metadata": {},
   "outputs": [],
   "source": [
    "DATASET_NAME = \"cochrane\""
   ]
  },
  {
   "cell_type": "code",
   "execution_count": 11,
   "metadata": {},
   "outputs": [],
   "source": [
    "df = json.load(open(f\"../data/{DATASET_NAME}.json\"))\n",
    "\n",
    "df[\"train\"] = [{\"prompt\":f\"Summarize: {item['input']} | Answer: \", \n",
    "  \"chosen\":item['labels'][0],\n",
    "  \"rejected\":\"\"} for item in df[\"train\"]]\n",
    "\n",
    "df[\"test\"] = [{\"prompt\":f\"Summarize: {item['input']} | Answer: \", \n",
    "  \"chosen\":item['labels'][0],\n",
    "  \"rejected\":\"\"} for item in df[\"test\"]]\n",
    "\n",
    "def write_json(output_json, path):\n",
    "    json_object = json.dumps(output_json, indent=4)\n",
    "    with open(path, \"w\") as outfile:\n",
    "        outfile.write(json_object)"
   ]
  },
  {
   "cell_type": "code",
   "execution_count": 13,
   "metadata": {},
   "outputs": [],
   "source": [
    "write_json(\n",
    "    {\"train\": df[\"train\"], \"test\": df[\"test\"]},\n",
    "    f\"../data/cochrane_dpo.json\",\n",
    ")\n"
   ]
  },
  {
   "cell_type": "code",
   "execution_count": null,
   "metadata": {},
   "outputs": [],
   "source": []
  }
 ],
 "metadata": {
  "kernelspec": {
   "display_name": "simplification",
   "language": "python",
   "name": "python3"
  },
  "language_info": {
   "codemirror_mode": {
    "name": "ipython",
    "version": 3
   },
   "file_extension": ".py",
   "mimetype": "text/x-python",
   "name": "python",
   "nbconvert_exporter": "python",
   "pygments_lexer": "ipython3",
   "version": "3.8.16"
  },
  "orig_nbformat": 4
 },
 "nbformat": 4,
 "nbformat_minor": 2
}

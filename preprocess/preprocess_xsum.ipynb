{
 "cells": [
  {
   "cell_type": "code",
   "execution_count": 1,
   "metadata": {},
   "outputs": [
    {
     "name": "stderr",
     "output_type": "stream",
     "text": [
      "Found cached dataset xsum (/home/lyf6/.cache/huggingface/datasets/xsum/default/1.2.0/082863bf4754ee058a5b6f6525d0cb2b18eadb62c7b370b095d1364050a52b71)\n"
     ]
    },
    {
     "data": {
      "application/vnd.jupyter.widget-view+json": {
       "model_id": "714e7478d225406b9cfa25288192c9b3",
       "version_major": 2,
       "version_minor": 0
      },
      "text/plain": [
       "  0%|          | 0/3 [00:00<?, ?it/s]"
      ]
     },
     "metadata": {},
     "output_type": "display_data"
    }
   ],
   "source": [
    "from datasets import load_dataset\n",
    "\n",
    "dataset = load_dataset(\"xsum\")"
   ]
  },
  {
   "cell_type": "code",
   "execution_count": 5,
   "metadata": {},
   "outputs": [],
   "source": [
    "train_dataset = [{\"input\": i, \n",
    "                  \"labels\": [s], \n",
    "                  \"id\": x} for (i,s,x) in zip(dataset[\"train\"][\"document\"], \n",
    "                                              dataset[\"train\"][\"summary\"], \n",
    "                                              dataset[\"train\"][\"id\"])]\n",
    "val_dataset = [{\"input\": i, \n",
    "                  \"labels\": [s], \n",
    "                  \"id\": x} for (i,s,x) in zip(dataset[\"validation\"][\"document\"], \n",
    "                                              dataset[\"validation\"][\"summary\"], \n",
    "                                              dataset[\"validation\"][\"id\"])]\n",
    "test_dataset = [{\"input\": i, \n",
    "                  \"labels\": [s], \n",
    "                  \"id\": x} for (i,s,x) in zip(dataset[\"test\"][\"document\"], \n",
    "                                              dataset[\"test\"][\"summary\"], \n",
    "                                              dataset[\"test\"][\"id\"])]"
   ]
  },
  {
   "cell_type": "code",
   "execution_count": 7,
   "metadata": {},
   "outputs": [],
   "source": [
    "dataset = {\"train\": train_dataset, \"test\": test_dataset, \"val\": val_dataset}"
   ]
  },
  {
   "cell_type": "code",
   "execution_count": 6,
   "metadata": {},
   "outputs": [],
   "source": [
    "import json\n",
    "\n",
    "def write_json(output_json, path):\n",
    "    json_object = json.dumps(output_json, indent=4)\n",
    "    with open(path, \"w\") as outfile:\n",
    "        outfile.write(json_object)"
   ]
  },
  {
   "cell_type": "code",
   "execution_count": 8,
   "metadata": {},
   "outputs": [],
   "source": [
    "write_json(dataset, \"data/xsum.json\")\n",
    "write_json(dataset, \"data/xsum_multiple.json\")"
   ]
  },
  {
   "cell_type": "code",
   "execution_count": null,
   "metadata": {},
   "outputs": [],
   "source": []
  }
 ],
 "metadata": {
  "kernelspec": {
   "display_name": "simplification",
   "language": "python",
   "name": "python3"
  },
  "language_info": {
   "codemirror_mode": {
    "name": "ipython",
    "version": 3
   },
   "file_extension": ".py",
   "mimetype": "text/x-python",
   "name": "python",
   "nbconvert_exporter": "python",
   "pygments_lexer": "ipython3",
   "version": "3.8.16"
  },
  "orig_nbformat": 4
 },
 "nbformat": 4,
 "nbformat_minor": 2
}

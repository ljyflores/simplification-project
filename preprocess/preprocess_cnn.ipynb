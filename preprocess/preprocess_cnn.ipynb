{
 "cells": [
  {
   "cell_type": "code",
   "execution_count": 20,
   "metadata": {},
   "outputs": [],
   "source": [
    "from datasets import load_dataset\n",
    "import json\n",
    "\n",
    "def write_json(output_json, path):\n",
    "    json_object = json.dumps(output_json, indent=4)\n",
    "    with open(path, \"w\") as outfile:\n",
    "        outfile.write(json_object)\n",
    "\n",
    "dataset = load_dataset(\"cnn_dailymail\", \"3.0.0\")\n",
    "\n",
    "dataset = dataset.rename_column(\"article\", \"input\").rename_column(\"highlights\", \"labels\")\n",
    "dataset = dataset.remove_columns(\"id\")\n",
    "\n",
    "dataset_train = [item for idx, item in enumerate(dataset[\"train\"])]\n",
    "dataset_test = [item for idx, item in enumerate(dataset[\"test\"])]\n",
    "dataset_val = [item for idx, item in enumerate(dataset[\"validation\"])]\n",
    "\n",
    "dataset_train = list(map(lambda d: {\"input\": d[\"input\"],\n",
    "               \"labels\": [d[\"labels\"]]}, dataset_train))\n",
    "dataset_test = list(map(lambda d: {\"input\": d[\"input\"],\n",
    "               \"labels\": [d[\"labels\"]]}, dataset_test))\n",
    "dataset_val = list(map(lambda d: {\"input\": d[\"input\"],\n",
    "               \"labels\": [d[\"labels\"]]}, dataset_val))\n",
    "\n",
    "write_json(\n",
    "    {\"train\": dataset_train, \"test\": dataset_test, \"val\": dataset_val},\n",
    "    f\"../data/cnn_remv_unk.json\",\n",
    ")\n",
    "write_json(\n",
    "    {\"train\": dataset_train, \"test\": dataset_test, \"val\": dataset_val},\n",
    "    f\"../data/cnn_remv_unk_multiple.json\",\n",
    ")"
   ]
  },
  {
   "cell_type": "code",
   "execution_count": null,
   "metadata": {},
   "outputs": [],
   "source": []
  }
 ],
 "metadata": {
  "kernelspec": {
   "display_name": "simplification",
   "language": "python",
   "name": "python3"
  },
  "language_info": {
   "codemirror_mode": {
    "name": "ipython",
    "version": 3
   },
   "file_extension": ".py",
   "mimetype": "text/x-python",
   "name": "python",
   "nbconvert_exporter": "python",
   "pygments_lexer": "ipython3",
   "version": "3.8.16"
  },
  "orig_nbformat": 4
 },
 "nbformat": 4,
 "nbformat_minor": 2
}

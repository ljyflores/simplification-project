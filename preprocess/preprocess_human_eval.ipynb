{
 "cells": [
  {
   "cell_type": "code",
   "execution_count": 1,
   "metadata": {},
   "outputs": [],
   "source": [
    "import json\n",
    "import random\n",
    "import pandas as pd\n",
    "\n",
    "DATASET = \"cochrane_full\"\n",
    "baseline_file = \"output/cochrane_bart_xsum.txt\"\n",
    "output_list = [\"output/cochrane_gpt4_basic_128.txt\",\n",
    "               \"output/cochrane_bart_napss.txt\",\n",
    "               \"output/ul/cochrane_bart_xsum_ul_inp.txt\",\n",
    "               \"output/decode/cochrane_full_bart_xsum_10.txt\"]\n",
    "\n",
    "# DATASET = \"asset_full\"\n",
    "# baseline_file = \"output/asset_bart_xsum.txt\"\n",
    "# output_list = [\"output/asset_gpt4_basic_128.txt\",\n",
    "#                \"./muss/muss_system_outputs/en/asset/test/muss_bart_access_wikilarge/25681095.pred\",\n",
    "#                \"output/ul/asset_bart_xsum_ul_inp.txt\",\n",
    "#                \"output/decode/asset_full_bart_xsum_5.txt\"]\n",
    "\n",
    "inputs = json.load(open(f\"data/{DATASET}_multiple.json\"))[\"test\"]\n",
    "baseline_list = open(baseline_file, \"r\").read().split('\\n')[:len(inputs)]\n",
    "output_list = [open(f, \"r\").read().split('\\n')[:len(inputs)] for f in output_list]\n",
    "order = list(range(len(output_list)))\n",
    "\n",
    "result = []\n",
    "for idx, x in enumerate(zip(inputs, baseline_list, *output_list)):\n",
    "    input_dict, baseline, outputs = x[0], x[1], x[2:]\n",
    "    input_sent = input_dict['input']\n",
    "    # input_label = input_dict['labels']\n",
    "    random.shuffle(order)\n",
    "    order_copy = list(order)\n",
    "    outputs = [outputs[idx] for idx in order_copy]\n",
    "    result.append((idx, input_sent, baseline, outputs, order_copy))\n",
    "    \n",
    "# df = pd.DataFrame(result, columns=['id','input','baseline','model_written','order'])\n",
    "# df.to_csv(f\"output/human_eval/{DATASET}.csv\", index=False)"
   ]
  },
  {
   "cell_type": "code",
   "execution_count": 2,
   "metadata": {},
   "outputs": [],
   "source": [
    "chosen_samples = random.sample(list(range(len(result))), k=30)\n",
    "\n",
    "chosen_items = [result[i] for i in chosen_samples]\n",
    "\n",
    "final_html = \"\"\n",
    "\n",
    "for item in chosen_items:\n",
    "    idx, inpt, baseline, model_written, _ = item\n",
    "    model_written_html = \"\".join([f\"<li><b>Model {i}:</b> {s}</li>\\n\" for (i,s) in enumerate(model_written)])\n",
    "    complete_html = f\"\"\"\n",
    "    <h1>Report {idx}</h1>\n",
    "    <h4>Original</h4>\n",
    "    <p>{inpt}</p>\n",
    "    <h4>Baseline Model (BART-XSum)</h4>\n",
    "    <p>{baseline}</p>\n",
    "    <h4>Model Written Versions</h4>\n",
    "    <ul>\n",
    "    {model_written_html}\n",
    "    </ul>\n",
    "    \"\"\"\n",
    "    final_html += complete_html"
   ]
  },
  {
   "cell_type": "code",
   "execution_count": 3,
   "metadata": {},
   "outputs": [],
   "source": [
    "# Creating an HTML file\n",
    "Func = open(f\"output/human_eval/{DATASET}.html\",\"w\")\n",
    "   \n",
    "# Adding input data to the HTML file\n",
    "Func.write(final_html)\n",
    "              \n",
    "# Saving the data into the HTML file\n",
    "Func.close()"
   ]
  },
  {
   "cell_type": "code",
   "execution_count": 4,
   "metadata": {},
   "outputs": [
    {
     "name": "stdout",
     "output_type": "stream",
     "text": [
      "Selected Indices: [1, 0, 21, 342, 177, 214, 96, 139, 224, 292, 158, 109, 320, 140, 279, 92, 251, 116, 313, 242, 120, 150, 27, 64, 253, 170, 194, 215, 207, 327]\n"
     ]
    }
   ],
   "source": [
    "print(f\"Selected Indices: {chosen_samples}\")"
   ]
  },
  {
   "attachments": {},
   "cell_type": "markdown",
   "metadata": {},
   "source": [
    "### Cochrane Indices\n",
    "Selected Indices: [467, 89, 76, 220, 146, 1, 471, 85, 366, 26, 157, 204, 443, 457, 349, 232, 44, 145, 460, 323, 235, 207, 312, 412, 328, 68, 274, 455, 50, 341]\n",
    "\n",
    "### ASSET Indices\n",
    "Selected Indices: [1, 0, 21, 342, 177, 214, 96, 139, 224, 292, 158, 109, 320, 140, 279, 92, 251, 116, 313, 242, 120, 150, 27, 64, 253, 170, 194, 215, 207, 327]"
   ]
  },
  {
   "cell_type": "code",
   "execution_count": null,
   "metadata": {},
   "outputs": [],
   "source": []
  }
 ],
 "metadata": {
  "kernelspec": {
   "display_name": "simplification",
   "language": "python",
   "name": "python3"
  },
  "language_info": {
   "codemirror_mode": {
    "name": "ipython",
    "version": 3
   },
   "file_extension": ".py",
   "mimetype": "text/x-python",
   "name": "python",
   "nbconvert_exporter": "python",
   "pygments_lexer": "ipython3",
   "version": "3.8.16"
  },
  "orig_nbformat": 4
 },
 "nbformat": 4,
 "nbformat_minor": 2
}

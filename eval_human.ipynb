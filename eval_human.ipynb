{
 "cells": [
  {
   "cell_type": "code",
   "execution_count": 1,
   "metadata": {},
   "outputs": [],
   "source": [
    "import pandas as pd\n",
    "import numpy as np\n",
    "import ast\n",
    "from scipy.stats import mode\n",
    "from statsmodels.stats.inter_rater import fleiss_kappa, aggregate_raters\n",
    "from statsmodels.stats.proportion import test_proportions_2indep"
   ]
  },
  {
   "cell_type": "code",
   "execution_count": 2,
   "metadata": {},
   "outputs": [],
   "source": [
    "# Read in dataset key\n",
    "df = pd.read_csv(\"output/human_eval/cochrane_full.csv\")\n",
    "df['order'] = df['order'].apply(ast.literal_eval)\n",
    "\n",
    "order_dict = {row['id']: row['order'] for i, row in df.iterrows()}"
   ]
  },
  {
   "cell_type": "code",
   "execution_count": 3,
   "metadata": {},
   "outputs": [],
   "source": [
    "# Specify human eval files\n",
    "files = [\n",
    "    \"output/human_eval/Full Simplification Human Evaluation - Lj - Cochrane.csv\",\n",
    "    \"output/human_eval/Full Simplification Human Evaluation - Kejian - Cochrane.csv\",\n",
    "    \"output/human_eval/Full Simplification Human Evaluation - Heyuan - Cochrane.csv\",\n",
    "]"
   ]
  },
  {
   "cell_type": "code",
   "execution_count": 4,
   "metadata": {},
   "outputs": [],
   "source": [
    "def reorder(df_scores_, order_dict_):\n",
    "    df_scores = df_scores_.copy()\n",
    "    order_dict = order_dict_.copy()\n",
    "\n",
    "    for i, row in df_scores.loc[1:].iterrows():\n",
    "        report_id = row[0]\n",
    "        curr_order = order_dict[int(report_id)]\n",
    "        right_order = np.argsort(curr_order)\n",
    "        \n",
    "        df_scores.iloc[i, 1:5] = np.array(row[1:5])[right_order]\n",
    "        df_scores.iloc[i, 5:9] = np.array(row[5:9])[right_order]\n",
    "    \n",
    "    return df_scores"
   ]
  },
  {
   "cell_type": "code",
   "execution_count": 5,
   "metadata": {},
   "outputs": [],
   "source": [
    "df_scores_list = []\n",
    "\n",
    "for f in files:\n",
    "    df_human = pd.read_csv(f) # Read\n",
    "    df_human.iloc[1:,1:] = df_human.iloc[1:,1:].applymap(int) # Cast as int\n",
    "    df_human = reorder(df_human, order_dict) # Reorder by model\n",
    "    df_scores_list.append(df_human)"
   ]
  },
  {
   "cell_type": "code",
   "execution_count": 6,
   "metadata": {},
   "outputs": [
    {
     "name": "stderr",
     "output_type": "stream",
     "text": [
      "/tmp/ipykernel_2649616/983193851.py:5: FutureWarning: Unlike other reduction functions (e.g. `skew`, `kurtosis`), the default behavior of `mode` typically preserves the axis it acts along. In SciPy 1.11.0, this behavior will change: the default value of `keepdims` will become False, the `axis` over which the statistic is taken will be eliminated, and the value None will no longer be accepted. Set `keepdims` to True or False to avoid this warning.\n",
      "  scores = mode(scores, axis=2).mode.squeeze(2)\n",
      "/tmp/ipykernel_2649616/983193851.py:5: DeprecationWarning: Support for non-numeric arrays has been deprecated as of SciPy 1.9.0 and will be removed in 1.11.0. `pandas.DataFrame.mode` can be used instead, see https://pandas.pydata.org/docs/reference/api/pandas.DataFrame.mode.html.\n",
      "  scores = mode(scores, axis=2).mode.squeeze(2)\n"
     ]
    }
   ],
   "source": [
    "# Stack all the scores across evaluators\n",
    "scores = np.stack([x.values[1:,1:] for x in df_scores_list], axis=2)\n",
    "\n",
    "# Get the majority vote\n",
    "scores = mode(scores, axis=2).mode.squeeze(2)"
   ]
  },
  {
   "cell_type": "code",
   "execution_count": 7,
   "metadata": {},
   "outputs": [
    {
     "data": {
      "text/plain": [
       "array([0.9333333333333333, 0.03333333333333333, 0.43333333333333335,\n",
       "       0.26666666666666666, 0.9, 0.5, 0.03333333333333333, 0.2],\n",
       "      dtype=object)"
      ]
     },
     "execution_count": 7,
     "metadata": {},
     "output_type": "execute_result"
    }
   ],
   "source": [
    "# Get the percentage stats\n",
    "scores.mean(axis=0)"
   ]
  },
  {
   "cell_type": "code",
   "execution_count": 8,
   "metadata": {},
   "outputs": [],
   "source": [
    "scores_read = scores.sum(axis=0)[:4]\n",
    "scores_fact = scores.sum(axis=0)[4:]"
   ]
  },
  {
   "cell_type": "code",
   "execution_count": 9,
   "metadata": {},
   "outputs": [
    {
     "name": "stdout",
     "output_type": "stream",
     "text": [
      "0 2 28 13 4.054435145443759e-06\n",
      "0 3 28 8 4.15930479501648e-11\n",
      "1 2 1 13 0.00012150197564308133\n",
      "1 3 1 8 0.01537780600910247\n",
      "0 2 27 1 3.4571313718918064e-29\n",
      "0 3 27 6 2.346254838823322e-12\n",
      "1 2 15 1 8.384597405174142e-06\n",
      "1 3 15 6 0.014193453412194966\n"
     ]
    }
   ],
   "source": [
    "# Hypothesis testing\n",
    "for i in [0,1]:\n",
    "    for j in [2,3]:\n",
    "        result = test_proportions_2indep(\n",
    "            count1 = scores_read[i], \n",
    "            nobs1  = 30, \n",
    "            count2 = scores_read[j], \n",
    "            nobs2  = 30, \n",
    "            compare='diff', \n",
    "            alternative='two-sided')\n",
    "        print(i, j, scores_read[i], scores_read[j], result.pvalue)\n",
    "\n",
    "for i in [0,1]:\n",
    "    for j in [2,3]:\n",
    "        result = test_proportions_2indep(\n",
    "            count1 = scores_fact[i], \n",
    "            nobs1  = 30, \n",
    "            count2 = scores_fact[j], \n",
    "            nobs2  = 30, \n",
    "            compare='diff', \n",
    "            alternative='two-sided')\n",
    "        print(i, j, scores_fact[i], scores_fact[j], result.pvalue)"
   ]
  },
  {
   "cell_type": "code",
   "execution_count": 10,
   "metadata": {},
   "outputs": [
    {
     "name": "stdout",
     "output_type": "stream",
     "text": [
      "1 0.1908091908091907\n",
      "2 -0.11801242236024921\n",
      "3 0.004524886877828309\n",
      "4 0.23685698134539257\n",
      "5 0.03999999999999907\n",
      "6 -0.026785714285714236\n",
      "7 0.012345679012345146\n",
      "8 0.3995552260934028\n"
     ]
    }
   ],
   "source": [
    "# Print Fleiss-Kappa agreement scores\n",
    "for i in range(1,9):\n",
    "    temp_df = pd.concat([x.iloc[1:,i] for x in df_scores_list], axis=1)\n",
    "    print(i, fleiss_kappa(aggregate_raters(temp_df)[0], 'fleiss'))"
   ]
  },
  {
   "cell_type": "code",
   "execution_count": null,
   "metadata": {},
   "outputs": [],
   "source": []
  }
 ],
 "metadata": {
  "kernelspec": {
   "display_name": "simplification",
   "language": "python",
   "name": "python3"
  },
  "language_info": {
   "codemirror_mode": {
    "name": "ipython",
    "version": 3
   },
   "file_extension": ".py",
   "mimetype": "text/x-python",
   "name": "python",
   "nbconvert_exporter": "python",
   "pygments_lexer": "ipython3",
   "version": "3.8.16"
  },
  "orig_nbformat": 4
 },
 "nbformat": 4,
 "nbformat_minor": 2
}

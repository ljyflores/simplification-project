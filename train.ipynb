{
 "cells": [
  {
   "cell_type": "code",
   "execution_count": 1,
   "metadata": {},
   "outputs": [
    {
     "name": "stderr",
     "output_type": "stream",
     "text": [
      "Using custom data configuration default-a76fd4faf6436e13\n",
      "Reusing dataset json (/home/lily/lyf6/.cache/huggingface/datasets/json/default-a76fd4faf6436e13/0.0.0/ac0ca5f5289a6cf108e706efcf040422dbbfa8e658dee6a819f20d76bb84d26b)\n"
     ]
    },
    {
     "data": {
      "application/vnd.jupyter.widget-view+json": {
       "model_id": "288959f9c7ba4107afe9ff8d981890eb",
       "version_major": 2,
       "version_minor": 0
      },
      "text/plain": [
       "  0%|          | 0/1 [00:00<?, ?it/s]"
      ]
     },
     "metadata": {},
     "output_type": "display_data"
    },
    {
     "name": "stderr",
     "output_type": "stream",
     "text": [
      "Using custom data configuration default-6008f3d38acc97fb\n",
      "Reusing dataset json (/home/lily/lyf6/.cache/huggingface/datasets/json/default-6008f3d38acc97fb/0.0.0/ac0ca5f5289a6cf108e706efcf040422dbbfa8e658dee6a819f20d76bb84d26b)\n"
     ]
    },
    {
     "data": {
      "application/vnd.jupyter.widget-view+json": {
       "model_id": "2b2a7d06ddd3449d863c038f9da10804",
       "version_major": 2,
       "version_minor": 0
      },
      "text/plain": [
       "  0%|          | 0/1 [00:00<?, ?it/s]"
      ]
     },
     "metadata": {},
     "output_type": "display_data"
    },
    {
     "name": "stderr",
     "output_type": "stream",
     "text": [
      "Loading cached processed dataset at /home/lily/lyf6/.cache/huggingface/datasets/json/default-a76fd4faf6436e13/0.0.0/ac0ca5f5289a6cf108e706efcf040422dbbfa8e658dee6a819f20d76bb84d26b/cache-b19ce81eb75a9e6f.arrow\n"
     ]
    },
    {
     "data": {
      "application/vnd.jupyter.widget-view+json": {
       "model_id": "5c1abd7509be4f3997f8bb6b1edca335",
       "version_major": 2,
       "version_minor": 0
      },
      "text/plain": [
       "  0%|          | 0/1 [00:00<?, ?ba/s]"
      ]
     },
     "metadata": {},
     "output_type": "display_data"
    }
   ],
   "source": [
    "import pandas as pd\n",
    "import numpy as np\n",
    "import nltk\n",
    "from datasets import Dataset, DatasetDict, load_metric, load_dataset\n",
    "from transformers import BartTokenizer, BartForConditionalGeneration, TrainingArguments\n",
    "from transformers import Seq2SeqTrainer, Seq2SeqTrainingArguments, DataCollatorForSeq2Seq\n",
    "from transformers import AutoTokenizer, AutoModelForSeq2SeqLM\n",
    "from evaluate import load\n",
    "import argparse\n",
    "\n",
    "metric_rouge = load(\"rouge\")\n",
    "metric_bertscore = load(\"bertscore\")\n",
    "metric_sari = load(\"sari\")\n",
    "\n",
    "def compute_metrics(eval_pred):\n",
    "    predictions, labels, sources = eval_pred\n",
    "\n",
    "    if isinstance(predictions, tuple):\n",
    "        predictions = predictions[0]\n",
    "        print(\"preds again\", predictions)\n",
    "        \n",
    "    # Replace -100 in the labels and sources as we can't decode them.\n",
    "    decoded_preds = tokenizer.batch_decode(predictions, skip_special_tokens=True)\n",
    "    \n",
    "    labels = np.where(labels != -100, labels, tokenizer.pad_token_id)\n",
    "    decoded_labels = tokenizer.batch_decode(labels, skip_special_tokens=True)\n",
    "        \n",
    "    sources = np.where(sources != -100, sources, tokenizer.pad_token_id)\n",
    "    decoded_inputs = tokenizer.batch_decode(sources, skip_special_tokens=True)\n",
    "    \n",
    "    # Tokenize and clean\n",
    "    decoded_preds_newln = [\"\\n\".join(nltk.sent_tokenize(pred.strip())) for pred in decoded_preds]\n",
    "    decoded_preds_space = [ \" \".join(nltk.sent_tokenize(pred.strip())) for pred in decoded_preds]\n",
    "    decoded_label_newln = [\"\\n\".join(nltk.sent_tokenize(labl.strip())) for labl in decoded_labels]\n",
    "    decoded_label_space = [ \" \".join(nltk.sent_tokenize(labl.strip())) for labl in decoded_labels]\n",
    "    decoded_input_space = [ \" \".join(nltk.sent_tokenize(inpt.strip())) for inpt in decoded_inputs]\n",
    "    \n",
    "    result_rouge = metric_rouge.compute(predictions=decoded_preds_newln, references=decoded_label_newln, use_stemmer=True)\n",
    "    result_berts = metric_bertscore.compute(predictions=decoded_preds_space, references=decoded_label_space, lang=\"en\")\n",
    "    result_sari  = metric_sari.compute(sources=decoded_input_space, predictions=decoded_preds_space, references=[[i] for i in decoded_label_space])\n",
    "\n",
    "    # Extract results\n",
    "    result = result_rouge # {key: value.mid.fmeasure * 100 for key, value in result_rouge.items()}\n",
    "    result['bert_score'] = np.mean(result_berts['f1'])\n",
    "    result['sari']       = result_sari['sari']\n",
    "    prediction_lens      = [np.count_nonzero(pred != tokenizer.pad_token_id) for pred in predictions]\n",
    "    result[\"gen_len\"]    = np.mean(prediction_lens)\n",
    "    \n",
    "    return {k: round(v, 4) for k, v in result.items()}\n",
    "\n",
    "# Get dataset from arguments\n",
    "# parser = argparse.ArgumentParser()\n",
    "# parser.add_argument(\"--dataset\", required=True)\n",
    "# parser.add_argument(\"--lr\", required=True)\n",
    "# parser.add_argument(\"--epochs\", required=True)\n",
    "# parser.add_argument(\"--gradient_accumulation_steps\", default=1, required=False)\n",
    "# parser.add_argument(\"--batch_size\", default=1, required=False)\n",
    "# parser.add_argument(\"--checkpoint\", default=None, required=False)\n",
    "# parser.add_argument(\"--model\", required=True)\n",
    "# parser.add_argument(\"--predict_only\", required=False, default=False, type=bool)\n",
    "# parser.add_argument(\"--weight_decay\", required=False, type=float, default=0.01)\n",
    "# args = parser.parse_args()\n",
    "# print(f\"Using dataset: {args.dataset}, Args: {args.lr} (lr), {args.epochs} (epochs), {args.batch_size} (batch_size)\")\n",
    "# print(f\"{args.gradient_accumulation_steps} (gradient_accumulation_steps), {args.weight_decay} (weight_decay), {args.checkpoint} (checkpoint)\")\n",
    "\n",
    "DATASET_NAME    = 'cochrane' # args.dataset \n",
    "dataset         = load_dataset('json', data_files=f'data/{DATASET_NAME}.json', field='train')\n",
    "dataset['test'] = load_dataset('json', data_files=f'data/{DATASET_NAME}_multiple.json', field='test')['train']\n",
    "\n",
    "# Load in the model and tokenizer, for this we're using BART, which is good at generation tasks\n",
    "# if args.model == 'bart':\n",
    "#     MODEL_NAME = \"BART\"\n",
    "#     model = BartForConditionalGeneration.from_pretrained(\"facebook/bart-large\" \\\n",
    "#                                                         if args.checkpoint == None else args.checkpoint)\n",
    "#     tokenizer = BartTokenizer.from_pretrained(\"facebook/bart-large\")\n",
    "# elif args.model == 'flant5':\n",
    "MODEL_NAME = 'FLANT5'\n",
    "model = AutoModelForSeq2SeqLM.from_pretrained(\"google/flan-t5-large\")\n",
    "tokenizer = AutoTokenizer.from_pretrained(\"google/flan-t5-large\")\n",
    "# else:\n",
    "#     assert False\n",
    "    \n",
    "def preprocess_function(examples):\n",
    "    \"\"\"This function takes a batch of samples, and tokenizes them into IDs for the model\n",
    "       It does this by adding new arguments to the Dataset dictionary, namely\n",
    "       - input_ids:      tokenized IDs of the findings\n",
    "       - attention_mask: mask that tells us which tokens are words and which are padding\n",
    "       - labels:         tokenized IDs of the impressions\n",
    "    Args:\n",
    "        examples (Dataset): {'Findings':[<list of findings texts>],\n",
    "                             'Impressions':[[<list of impressions texts>] per item]}\n",
    "\n",
    "    Returns:\n",
    "        model_inputs (Dataset): {'Findings':      [<list of findings texts>],\n",
    "                                 'Impressions':   [<list of impressions texts>],\n",
    "                                 'input_ids':     list of lists with impressions IDs,\n",
    "                                 'attention_mask':list of lists with impressions IDs masks,\n",
    "                                 'labels':        list of lists with findings IDs}\n",
    "    \"\"\"\n",
    "    # Tokenize the Findings (the input)\n",
    "    # input_str = list(map(lambda s: f\"Simplify: {s}\", examples[\"input\"])) if args.model == 'flant5' else examples[\"input\"]\n",
    "    input_str = examples[\"input\"]\n",
    "    model_inputs = tokenizer(input_str, max_length=512, padding=True, truncation=True)\n",
    "    # Tokenize the Impressions (the output)\n",
    "    labels = tokenizer([lst[0] for lst in examples[\"labels\"]], \n",
    "                       max_length=768, # 512, \n",
    "                       padding=True, \n",
    "                       truncation=True)\n",
    "    # Set the label as the token ids (i.e. the vocab IDs) of the findings\n",
    "    model_inputs[\"labels\"] = labels[\"input_ids\"]\n",
    "    return model_inputs\n",
    "\n",
    "# We apply the function to all the examples in our train and test datasets\n",
    "dataset['train'] = dataset['train'].map(preprocess_function, batched=True)\n",
    "dataset['test']  = dataset['test'].map(preprocess_function, batched=True)\n",
    "\n",
    "# Remove the original columns\n",
    "dataset['train'] = dataset['train'].remove_columns([\"input\"])\n",
    "dataset['test']  = dataset['test'].remove_columns([\"input\"])\n",
    "\n",
    "try:\n",
    "    dataset['train'] = dataset['train'].remove_columns(['vocab','report_id'])\n",
    "    dataset['test']  = dataset['test'].remove_columns(['vocab','report_id'])\n",
    "except:\n",
    "    pass\n"
   ]
  },
  {
   "cell_type": "code",
   "execution_count": 4,
   "metadata": {},
   "outputs": [],
   "source": [
    "# Write out the arguments\n",
    "MODEL_OUT_NAME = f\"{MODEL_NAME}_{DATASET_NAME}\"\n",
    "\n",
    "EFFECTIVE_BATCH = 64 # int(args.batch_size)*int(args.gradient_accumulation_steps)\n",
    "\n",
    "training_args = Seq2SeqTrainingArguments(\n",
    "    f\"models/{MODEL_OUT_NAME}\",\n",
    "    num_train_epochs=10, # int(args.epochs),\n",
    "    learning_rate=5e-4, # float(args.lr),\n",
    "    per_device_train_batch_size=4, # int(args.batch_size),\n",
    "    per_device_eval_batch_size=4, # int(args.batch_size),\n",
    "    gradient_accumulation_steps=16, # int(args.gradient_accumulation_steps),\n",
    "    weight_decay=0.05, # float(args.weight_decay),\n",
    "    fp16=False,\n",
    "    predict_with_generate=True,\n",
    "    include_inputs_for_metrics=True,\n",
    "    report_to=\"wandb\",\n",
    "    evaluation_strategy = \"epoch\",\n",
    "    save_steps = 500,\n",
    "    save_total_limit=3,\n",
    "    logging_strategy=\"steps\",\n",
    "    logging_steps=1,\n",
    "    warmup_steps=1000,\n",
    "    run_name=f\"TEST\",\n",
    "    generation_max_length=100,\n",
    ")\n",
    "\n",
    "data_collator = DataCollatorForSeq2Seq(tokenizer)\n",
    "\n",
    "# Create the Trainer and train\n",
    "trainer = Seq2SeqTrainer(\n",
    "    model=model,\n",
    "    args=training_args,\n",
    "    train_dataset=dataset['train'],\n",
    "    eval_dataset=dataset['test'],\n",
    "    data_collator=data_collator,\n",
    "    tokenizer=tokenizer,\n",
    "    compute_metrics=compute_metrics\n",
    ")\n",
    "\n",
    "# if not args.predict_only:\n",
    "#     trainer.train()\n"
   ]
  },
  {
   "cell_type": "code",
   "execution_count": 6,
   "metadata": {},
   "outputs": [
    {
     "name": "stderr",
     "output_type": "stream",
     "text": [
      "/home/lily/lyf6/miniconda3/envs/simplification/lib/python3.8/site-packages/torch/nn/parallel/_functions.py:68: UserWarning: Was asked to gather along dimension 0, but all input tensors were scalars; will instead unsqueeze and return a vector.\n",
      "  warnings.warn('Was asked to gather along dimension 0, but all '\n"
     ]
    },
    {
     "data": {
      "text/html": [],
      "text/plain": [
       "<IPython.core.display.HTML object>"
      ]
     },
     "metadata": {},
     "output_type": "display_data"
    }
   ],
   "source": [
    "out = trainer.predict(dataset['test'])"
   ]
  },
  {
   "cell_type": "code",
   "execution_count": 9,
   "metadata": {},
   "outputs": [],
   "source": [
    "out = tokenizer.batch_decode(out.predictions)"
   ]
  },
  {
   "cell_type": "code",
   "execution_count": 14,
   "metadata": {},
   "outputs": [
    {
     "data": {
      "text/plain": [
       "'<pad> The results of this review suggest that drain is not a suitable treatment for patients with cholecystitis.</s><pad><pad><pad><pad><pad><pad><pad><pad><pad><pad><pad><pad><pad><pad><pad><pad><pad><pad><pad><pad><pad><pad><pad><pad><pad><pad><pad><pad><pad><pad><pad><pad><pad><pad><pad><pad><pad><pad><pad><pad><pad><pad><pad><pad><pad><pad><pad><pad><pad><pad><pad><pad><pad><pad><pad><pad><pad><pad><pad><pad><pad><pad><pad><pad><pad><pad><pad><pad><pad><pad><pad><pad>'"
      ]
     },
     "execution_count": 14,
     "metadata": {},
     "output_type": "execute_result"
    }
   ],
   "source": [
    "out[4]"
   ]
  },
  {
   "cell_type": "code",
   "execution_count": null,
   "metadata": {},
   "outputs": [],
   "source": [
    "\n",
    "# Use the model to generate outputs\n",
    "test_output = trainer.predict(dataset['test'])\n",
    "test_output = tokenizer.batch_decode(test_output.predictions)\n",
    "test_output = list(map(lambda s: s.replace('<s>','').replace('</s>','').replace('<pad>',''), test_output))\n",
    "\n",
    "# open file in write mode\n",
    "with open(f'output/{args.dataset}_{args.model}.txt', 'w') as fp:\n",
    "    for item in test_output:\n",
    "        fp.write(\"%s\\n\" % item)\n",
    "    print('Done')"
   ]
  },
  {
   "cell_type": "markdown",
   "metadata": {},
   "source": []
  }
 ],
 "metadata": {
  "kernelspec": {
   "display_name": "simplification",
   "language": "python",
   "name": "python3"
  },
  "language_info": {
   "codemirror_mode": {
    "name": "ipython",
    "version": 3
   },
   "file_extension": ".py",
   "mimetype": "text/x-python",
   "name": "python",
   "nbconvert_exporter": "python",
   "pygments_lexer": "ipython3",
   "version": "3.8.0"
  },
  "orig_nbformat": 4
 },
 "nbformat": 4,
 "nbformat_minor": 2
}

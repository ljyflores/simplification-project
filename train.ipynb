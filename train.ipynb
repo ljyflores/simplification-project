{
 "cells": [
  {
   "cell_type": "code",
   "execution_count": 1,
   "metadata": {},
   "outputs": [
    {
     "name": "stderr",
     "output_type": "stream",
     "text": [
      "Using custom data configuration default-dfd9fd8626c408cd\n",
      "Reusing dataset json (/home/lily/lyf6/.cache/huggingface/datasets/json/default-dfd9fd8626c408cd/0.0.0/ac0ca5f5289a6cf108e706efcf040422dbbfa8e658dee6a819f20d76bb84d26b)\n"
     ]
    },
    {
     "data": {
      "application/vnd.jupyter.widget-view+json": {
       "model_id": "6bdac2f116364ef9a406dd9e99d46440",
       "version_major": 2,
       "version_minor": 0
      },
      "text/plain": [
       "  0%|          | 0/1 [00:00<?, ?it/s]"
      ]
     },
     "metadata": {},
     "output_type": "display_data"
    },
    {
     "name": "stderr",
     "output_type": "stream",
     "text": [
      "Using custom data configuration default-1380f428cc862734\n",
      "Reusing dataset json (/home/lily/lyf6/.cache/huggingface/datasets/json/default-1380f428cc862734/0.0.0/ac0ca5f5289a6cf108e706efcf040422dbbfa8e658dee6a819f20d76bb84d26b)\n"
     ]
    },
    {
     "data": {
      "application/vnd.jupyter.widget-view+json": {
       "model_id": "81a8c4266e7146c68ed57570cb9760f2",
       "version_major": 2,
       "version_minor": 0
      },
      "text/plain": [
       "  0%|          | 0/1 [00:00<?, ?it/s]"
      ]
     },
     "metadata": {},
     "output_type": "display_data"
    }
   ],
   "source": [
    "import pandas as pd\n",
    "import numpy as np\n",
    "import nltk\n",
    "from datasets import Dataset, DatasetDict, load_metric, load_dataset\n",
    "from transformers import BartTokenizer, BartForConditionalGeneration, TrainingArguments\n",
    "from transformers import Seq2SeqTrainer, Seq2SeqTrainingArguments, DataCollatorForSeq2Seq\n",
    "from transformers import AutoTokenizer, AutoModelForSeq2SeqLM\n",
    "from evaluate import load\n",
    "import argparse\n",
    "\n",
    "metric_rouge = load(\"rouge\")\n",
    "metric_bertscore = load(\"bertscore\")\n",
    "metric_sari = load(\"sari\")\n",
    "\n",
    "def compute_metrics(eval_pred):\n",
    "    predictions, labels, sources = eval_pred\n",
    "\n",
    "    if isinstance(predictions, tuple):\n",
    "        predictions = predictions[0]\n",
    "        print(\"preds again\", predictions)\n",
    "        \n",
    "    # Replace -100 in the labels and sources as we can't decode them.\n",
    "    decoded_preds = tokenizer.batch_decode(predictions, skip_special_tokens=True)\n",
    "    \n",
    "    labels = np.where(labels != -100, labels, tokenizer.pad_token_id)\n",
    "    decoded_labels = tokenizer.batch_decode(labels, skip_special_tokens=True)\n",
    "        \n",
    "    sources = np.where(sources != -100, sources, tokenizer.pad_token_id)\n",
    "    decoded_inputs = tokenizer.batch_decode(sources, skip_special_tokens=True)\n",
    "    \n",
    "    # Tokenize and clean\n",
    "    decoded_preds_newln = [\"\\n\".join(nltk.sent_tokenize(pred.strip())) for pred in decoded_preds]\n",
    "    decoded_preds_space = [ \" \".join(nltk.sent_tokenize(pred.strip())) for pred in decoded_preds]\n",
    "    decoded_label_newln = [\"\\n\".join(nltk.sent_tokenize(labl.strip())) for labl in decoded_labels]\n",
    "    decoded_label_space = [ \" \".join(nltk.sent_tokenize(labl.strip())) for labl in decoded_labels]\n",
    "    decoded_input_space = [ \" \".join(nltk.sent_tokenize(inpt.strip())) for inpt in decoded_inputs]\n",
    "    \n",
    "    result_rouge = metric_rouge.compute(predictions=decoded_preds_newln, references=decoded_label_newln, use_stemmer=True)\n",
    "    result_berts = metric_bertscore.compute(predictions=decoded_preds_space, references=decoded_label_space, lang=\"en\")\n",
    "    result_sari  = metric_sari.compute(sources=decoded_input_space, predictions=decoded_preds_space, references=[[i] for i in decoded_label_space])\n",
    "\n",
    "    # Extract results\n",
    "    result = result_rouge # {key: value.mid.fmeasure * 100 for key, value in result_rouge.items()}\n",
    "    result['bert_score'] = np.mean(result_berts['f1'])\n",
    "    result['sari']       = result_sari['sari']\n",
    "    prediction_lens      = [np.count_nonzero(pred != tokenizer.pad_token_id) for pred in predictions]\n",
    "    result[\"gen_len\"]    = np.mean(prediction_lens)\n",
    "    \n",
    "    return {k: round(v, 4) for k, v in result.items()}\n",
    "\n",
    "# Get dataset from arguments\n",
    "# parser = argparse.ArgumentParser()\n",
    "# parser.add_argument(\"--dataset\", required=True)\n",
    "# parser.add_argument(\"--lr\", required=True)\n",
    "# parser.add_argument(\"--epochs\", required=True)\n",
    "# parser.add_argument(\"--batch_size\", required=True)\n",
    "# parser.add_argument(\"--checkpoint\", default=None, required=False)\n",
    "# parser.add_argument(\"--model\", required=True)\n",
    "# parser.add_argument(\"--predict_only\", required=False, default=False, type=bool)\n",
    "# args = parser.parse_args()\n",
    "# print(f\"Using dataset: {args.dataset}, Args: {args.lr} (lr), {args.epochs} (epochs), {args.batch_size} (batch_size), {args.checkpoint} (checkpoint)\")\n",
    "\n",
    "DATASET_NAME    = 'radiology_indiv' # args.dataset \n",
    "dataset         = load_dataset('json', data_files=f'data/{DATASET_NAME}.json', field='train')\n",
    "dataset['test'] = load_dataset('json', data_files=f'data/{DATASET_NAME}_multiple.json', field='test')['train']\n"
   ]
  },
  {
   "cell_type": "code",
   "execution_count": 3,
   "metadata": {},
   "outputs": [
    {
     "data": {
      "text/plain": [
       "Dataset({\n",
       "    features: ['input', 'labels', 'vocab', 'report_id'],\n",
       "    num_rows: 8761\n",
       "})"
      ]
     },
     "execution_count": 3,
     "metadata": {},
     "output_type": "execute_result"
    }
   ],
   "source": [
    "dataset['train']"
   ]
  },
  {
   "cell_type": "code",
   "execution_count": 7,
   "metadata": {},
   "outputs": [
    {
     "data": {
      "application/vnd.jupyter.widget-view+json": {
       "model_id": "ce30877c6f2746eab0ab6ea1927487b2",
       "version_major": 2,
       "version_minor": 0
      },
      "text/plain": [
       "  0%|          | 0/9 [00:00<?, ?ba/s]"
      ]
     },
     "metadata": {},
     "output_type": "display_data"
    },
    {
     "data": {
      "application/vnd.jupyter.widget-view+json": {
       "model_id": "c8f98429938d484da7324dbefc005316",
       "version_major": 2,
       "version_minor": 0
      },
      "text/plain": [
       "  0%|          | 0/2 [00:00<?, ?ba/s]"
      ]
     },
     "metadata": {},
     "output_type": "display_data"
    }
   ],
   "source": [
    "# Load in the model and tokenizer, for this we're using BART, which is good at generation tasks\n",
    "MODEL_NAME = \"BART\"\n",
    "model = BartForConditionalGeneration.from_pretrained(\"facebook/bart-large\")\n",
    "tokenizer = BartTokenizer.from_pretrained(\"facebook/bart-large\")\n",
    "    \n",
    "def preprocess_function(examples):\n",
    "    \"\"\"This function takes a batch of samples, and tokenizes them into IDs for the model\n",
    "       It does this by adding new arguments to the Dataset dictionary, namely\n",
    "       - input_ids:      tokenized IDs of the findings\n",
    "       - attention_mask: mask that tells us which tokens are words and which are padding\n",
    "       - labels:         tokenized IDs of the impressions\n",
    "    Args:\n",
    "        examples (Dataset): {'Findings':[<list of findings texts>],\n",
    "                             'Impressions':[[<list of impressions texts>] per item]}\n",
    "\n",
    "    Returns:\n",
    "        model_inputs (Dataset): {'Findings':      [<list of findings texts>],\n",
    "                                 'Impressions':   [<list of impressions texts>],\n",
    "                                 'input_ids':     list of lists with impressions IDs,\n",
    "                                 'attention_mask':list of lists with impressions IDs masks,\n",
    "                                 'labels':        list of lists with findings IDs}\n",
    "    \"\"\"\n",
    "    # Tokenize the Findings (the input)\n",
    "    input_str = examples[\"input\"]\n",
    "    model_inputs = tokenizer(input_str, max_length=512, padding=True, truncation=True)\n",
    "    # Tokenize the Impressions (the output)\n",
    "    labels = tokenizer([lst[0] for lst in examples[\"labels\"]], max_length=512, padding=True, truncation=True)\n",
    "    # Set the label as the token ids (i.e. the vocab IDs) of the findings\n",
    "    model_inputs[\"labels\"] = labels[\"input_ids\"]\n",
    "    return model_inputs\n",
    "\n",
    "# We apply the function to all the examples in our train and test datasets\n",
    "dataset['train'] = dataset['train'].map(preprocess_function, batched=True)\n",
    "dataset['test']  = dataset['test'].map(preprocess_function, batched=True)\n",
    "\n",
    "# Remove the original columns\n",
    "dataset['train'] = dataset['train'].remove_columns([\"input\"])\n",
    "dataset['test']  = dataset['test'].remove_columns([\"input\"])"
   ]
  },
  {
   "cell_type": "code",
   "execution_count": 8,
   "metadata": {},
   "outputs": [
    {
     "data": {
      "text/plain": [
       "DatasetDict({\n",
       "    train: Dataset({\n",
       "        features: ['labels', 'vocab', 'report_id', 'input_ids', 'attention_mask'],\n",
       "        num_rows: 8761\n",
       "    })\n",
       "    test: Dataset({\n",
       "        features: ['labels', 'vocab', 'report_id', 'input_ids', 'attention_mask'],\n",
       "        num_rows: 1916\n",
       "    })\n",
       "})"
      ]
     },
     "execution_count": 8,
     "metadata": {},
     "output_type": "execute_result"
    }
   ],
   "source": [
    "dataset"
   ]
  },
  {
   "cell_type": "code",
   "execution_count": 9,
   "metadata": {},
   "outputs": [],
   "source": [
    "# Write out the arguments\n",
    "MODEL_OUT_NAME = f\"{MODEL_NAME}_{DATASET_NAME}\"\n",
    "\n",
    "training_args = Seq2SeqTrainingArguments(\n",
    "    f\"models/{MODEL_OUT_NAME}\",\n",
    "    evaluation_strategy = \"epoch\",\n",
    "    learning_rate=7e-5,\n",
    "    per_device_train_batch_size=4,\n",
    "    per_device_eval_batch_size=16,\n",
    "    weight_decay=0.01,\n",
    "    save_total_limit=3,\n",
    "    num_train_epochs=5,\n",
    "    predict_with_generate=True,\n",
    "    fp16=True,\n",
    "    include_inputs_for_metrics=True\n",
    ")\n",
    "\n",
    "data_collator = DataCollatorForSeq2Seq(tokenizer)\n",
    "\n",
    "# Create the Trainer and train\n",
    "trainer = Seq2SeqTrainer(\n",
    "    model=model,\n",
    "    args=training_args,\n",
    "    train_dataset=dataset['train'],\n",
    "    eval_dataset=dataset['test'],\n",
    "    data_collator=data_collator,\n",
    "    tokenizer=tokenizer,\n",
    "    compute_metrics=compute_metrics\n",
    ")\n"
   ]
  },
  {
   "cell_type": "code",
   "execution_count": null,
   "metadata": {},
   "outputs": [],
   "source": [
    "# Use the model to generate outputs\n",
    "test_output = trainer.predict(dataset['test'][:20])\n"
   ]
  },
  {
   "cell_type": "code",
   "execution_count": 21,
   "metadata": {},
   "outputs": [
    {
     "data": {
      "text/html": [],
      "text/plain": [
       "<IPython.core.display.HTML object>"
      ]
     },
     "metadata": {},
     "output_type": "display_data"
    }
   ],
   "source": [
    "x = trainer.predict(dataset['test'].select(range(10)))"
   ]
  },
  {
   "cell_type": "code",
   "execution_count": 22,
   "metadata": {},
   "outputs": [
    {
     "data": {
      "text/html": [],
      "text/plain": [
       "<IPython.core.display.HTML object>"
      ]
     },
     "metadata": {},
     "output_type": "display_data"
    }
   ],
   "source": [
    "y = trainer.predict(dataset['test'].remove_columns(['vocab','report_id']).select(range(10)))"
   ]
  },
  {
   "cell_type": "code",
   "execution_count": 31,
   "metadata": {},
   "outputs": [
    {
     "data": {
      "text/plain": [
       "['<s>There are bilateral pulmonary nodules measuring up to 8 mm, for example in the right middle lobe, stable compared to prior exam but no additional exam before 2021 to document stability.</s><pad><pad><pad><pad><pad><pad><pad><pad><pad><pad><pad><pad><pad><pad><pad><pad><pad><pad><pad><pad><pad><pad><pad><pad><pad><pad><pad><pad><pad><pad><pad>',\n",
       " '<s>Status post median sternotomy and CABG.</s><pad><pad><pad><pad><pad><pad><pad><pad><pad><pad><pad><pad><pad><pad><pad><pad><pad><pad><pad><pad><pad><pad><pad><pad><pad><pad><pad><pad><pad><pad><pad><pad><pad><pad><pad><pad><pad><pad><pad><pad><pad><pad><pad><pad><pad><pad><pad><pad><pad><pad><pad><pad><pad><pad><pad><pad>',\n",
       " '<s>There is skin thickening with fat stranding along the right anterior chest without a discrete fluid collection to suggest an abscess.</s><pad><pad><pad><pad><pad><pad><pad><pad><pad><pad><pad><pad><pad><pad><pad><pad><pad><pad><pad><pad><pad><pad><pad><pad><pad><pad><pad><pad><pad><pad><pad><pad><pad><pad><pad><pad><pad><pad><pad><pad><pad>',\n",
       " '<s>Partially visualized cystic nodule in the left breast, correlate with recent mammography.</s><pad><pad><pad><pad><pad><pad><pad><pad><pad><pad><pad><pad><pad><pad><pad><pad><pad><pad><pad><pad><pad><pad><pad><pad><pad><pad><pad><pad><pad><pad><pad><pad><pad><pad><pad><pad><pad><pad><pad><pad><pad><pad><pad><pad><pad><pad><pad>',\n",
       " '<s>There is ulceration involving the inferomedial aspect of the left breast without abscess.</s><pad><pad><pad><pad><pad><pad><pad><pad><pad><pad><pad><pad><pad><pad><pad><pad><pad><pad><pad><pad><pad><pad><pad><pad><pad><pad><pad><pad><pad><pad><pad><pad><pad><pad><pad><pad><pad><pad><pad><pad><pad><pad><pad><pad><pad><pad><pad>',\n",
       " '<s>Subacute left anterior second rib fracture.</s><pad><pad><pad><pad><pad><pad><pad><pad><pad><pad><pad><pad><pad><pad><pad><pad><pad><pad><pad><pad><pad><pad><pad><pad><pad><pad><pad><pad><pad><pad><pad><pad><pad><pad><pad><pad><pad><pad><pad><pad><pad><pad><pad><pad><pad><pad><pad><pad><pad><pad><pad><pad><pad><pad><pad><pad><pad>',\n",
       " '<s>Similar bony erosion of the sternum.</s><pad><pad><pad><pad><pad><pad><pad><pad><pad><pad><pad><pad><pad><pad><pad><pad><pad><pad><pad><pad><pad><pad><pad><pad><pad><pad><pad><pad><pad><pad><pad><pad><pad><pad><pad><pad><pad><pad><pad><pad><pad><pad><pad><pad><pad><pad><pad><pad><pad><pad><pad><pad><pad><pad><pad><pad><pad>',\n",
       " '<s>Mosaic attenuation of the lung parenchyma.</s><pad><pad><pad><pad><pad><pad><pad><pad><pad><pad><pad><pad><pad><pad><pad><pad><pad><pad><pad><pad><pad><pad><pad><pad><pad><pad><pad><pad><pad><pad><pad><pad><pad><pad><pad><pad><pad><pad><pad><pad><pad><pad><pad><pad><pad><pad><pad><pad><pad><pad><pad><pad><pad>',\n",
       " '<s>Patchy bilateral nodular opacities.</s><pad><pad><pad><pad><pad><pad><pad><pad><pad><pad><pad><pad><pad><pad><pad><pad><pad><pad><pad><pad><pad><pad><pad><pad><pad><pad><pad><pad><pad><pad><pad><pad><pad><pad><pad><pad><pad><pad><pad><pad><pad><pad><pad><pad><pad><pad><pad><pad><pad><pad><pad><pad><pad><pad><pad><pad><pad>',\n",
       " '<s>A quarter sized spot is seen in the top of the left lung.</s><pad><pad><pad><pad><pad><pad><pad><pad><pad><pad><pad><pad><pad><pad><pad><pad><pad><pad><pad><pad><pad><pad><pad><pad><pad><pad><pad><pad><pad><pad><pad><pad><pad><pad><pad><pad><pad><pad><pad><pad><pad><pad><pad><pad><pad><pad><pad><pad><pad><pad><pad><pad>']"
      ]
     },
     "execution_count": 31,
     "metadata": {},
     "output_type": "execute_result"
    }
   ],
   "source": [
    "tokenizer.batch_decode(dataset['train'][:10]['input_ids'])"
   ]
  },
  {
   "cell_type": "code",
   "execution_count": 25,
   "metadata": {},
   "outputs": [
    {
     "data": {
      "text/plain": [
       "['</s><s>Significantly improved pulmonary metastatic disease.</s><pad><pad><pad><pad><pad><pad><pad><pad><pad>',\n",
       " '</s><s>An 11 mm nodule at the right lung base previously measured 15 mm.</s><pad><pad>',\n",
       " '</s><s>Calcified left and right lymph nodes are noted.</s><pad><pad><pad><pad><pad><pad>',\n",
       " '</s><s>Prior thyroidectomy.</s><pad><pad><pad><pad><pad><pad><pad><pad><pad><pad><pad><pad><pad>',\n",
       " '</s><s>Diffuse mild bronchiectasis, areas of mucus impaction, and bron</s>',\n",
       " '</s><s>Severe aortic valvular calcifications.</s><pad><pad><pad><pad><pad><pad>',\n",
       " '</s><s>Severe mitral annular calcifications.</s><pad><pad><pad><pad><pad><pad><pad><pad>',\n",
       " '</s><s>Lungs/Airways/Pleura: Stable scattered pulmonary nodules</s>',\n",
       " '</s><s>Previously seen nodules are stable in size (example: Image 195, series 4).</s>',\n",
       " '</s><s>Mediastinum/Lymph nodes: Heterogeneous and enlarged thyroid gland</s>']"
      ]
     },
     "execution_count": 25,
     "metadata": {},
     "output_type": "execute_result"
    }
   ],
   "source": [
    "tokenizer.batch_decode(x.predictions)"
   ]
  },
  {
   "cell_type": "code",
   "execution_count": 26,
   "metadata": {},
   "outputs": [
    {
     "data": {
      "text/plain": [
       "['</s><s>Significantly improved pulmonary metastatic disease.</s><pad><pad><pad><pad><pad><pad><pad><pad><pad>',\n",
       " '</s><s>An 11 mm nodule at the right lung base previously measured 15 mm.</s><pad><pad>',\n",
       " '</s><s>Calcified left and right lymph nodes are noted.</s><pad><pad><pad><pad><pad><pad>',\n",
       " '</s><s>Prior thyroidectomy.</s><pad><pad><pad><pad><pad><pad><pad><pad><pad><pad><pad><pad><pad>',\n",
       " '</s><s>Diffuse mild bronchiectasis, areas of mucus impaction, and bron</s>',\n",
       " '</s><s>Severe aortic valvular calcifications.</s><pad><pad><pad><pad><pad><pad>',\n",
       " '</s><s>Severe mitral annular calcifications.</s><pad><pad><pad><pad><pad><pad><pad><pad>',\n",
       " '</s><s>Lungs/Airways/Pleura: Stable scattered pulmonary nodules</s>',\n",
       " '</s><s>Previously seen nodules are stable in size (example: Image 195, series 4).</s>',\n",
       " '</s><s>Mediastinum/Lymph nodes: Heterogeneous and enlarged thyroid gland</s>']"
      ]
     },
     "execution_count": 26,
     "metadata": {},
     "output_type": "execute_result"
    }
   ],
   "source": [
    "tokenizer.batch_decode(y.predictions)"
   ]
  },
  {
   "cell_type": "code",
   "execution_count": null,
   "metadata": {},
   "outputs": [],
   "source": [
    "test_output = tokenizer.batch_decode(test_output.predictions)\n",
    "test_output = list(map(lambda s: s.replace('<s>','').replace('</s>','').replace('<pad>',''), test_output))\n"
   ]
  },
  {
   "cell_type": "code",
   "execution_count": null,
   "metadata": {},
   "outputs": [],
   "source": []
  }
 ],
 "metadata": {
  "kernelspec": {
   "display_name": "simplification",
   "language": "python",
   "name": "python3"
  },
  "language_info": {
   "codemirror_mode": {
    "name": "ipython",
    "version": 3
   },
   "file_extension": ".py",
   "mimetype": "text/x-python",
   "name": "python",
   "nbconvert_exporter": "python",
   "pygments_lexer": "ipython3",
   "version": "3.8.0"
  },
  "orig_nbformat": 4
 },
 "nbformat": 4,
 "nbformat_minor": 2
}

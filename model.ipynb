{
 "cells": [
  {
   "cell_type": "code",
   "execution_count": 1,
   "metadata": {},
   "outputs": [],
   "source": [
    "import os\n",
    "# os.environ[\"CUDA_DEVICE_ORDER\"]=\"PCI_BUS_ID\"   # see issue #152\n",
    "os.environ[\"CUDA_VISIBLE_DEVICES\"]=\"3\"\n"
   ]
  },
  {
   "cell_type": "code",
   "execution_count": 2,
   "metadata": {},
   "outputs": [],
   "source": [
    "import pandas as pd\n",
    "import numpy as np\n",
    "import nltk\n",
    "from datasets import Dataset, DatasetDict, load_metric, load_dataset\n",
    "from transformers import BartTokenizer, BartForConditionalGeneration, TrainingArguments\n",
    "from transformers import Seq2SeqTrainer, Seq2SeqTrainingArguments, DataCollatorForSeq2Seq\n",
    "from transformers import AutoTokenizer, AutoModelForSeq2SeqLM\n",
    "from evaluate import load\n",
    "import argparse\n",
    "\n",
    "metric_rouge = load(\"rouge\")\n",
    "metric_bertscore = load(\"bertscore\")\n",
    "metric_sari = load(\"sari\")\n",
    "\n",
    "def wandb_hp_space(trial):\n",
    "    return {\n",
    "        \"method\": \"random\",\n",
    "        \"metric\": {\"name\": \"objective\", \"goal\": \"minimize\"},\n",
    "        \"parameters\": {\n",
    "            \"learning_rate\": {\"distribution\": \"uniform\", \"min\": 1e-6, \"max\": 1e-4},\n",
    "            \"per_device_train_batch_size\": {\"values\": [4, 8, 16]},\n",
    "            \"num_train_epochs\": {\"values\": [5, 10, 15, 20]}\n",
    "        },\n",
    "    }\n",
    "MODEL = 'flant5'\n",
    "checkpoint = None\n",
    "\n",
    "# def remove_none(lst):\n",
    "#     return list(filter(lambda item: item is not None, lst))\n",
    "\n",
    "def compute_metrics(eval_pred):\n",
    "    predictions, labels, sources = eval_pred\n",
    "\n",
    "    if isinstance(predictions, tuple):\n",
    "        predictions = predictions[0]\n",
    "        print(\"preds again\", predictions)\n",
    "        \n",
    "    # Replace -100 in the labels and sources as we can't decode them.\n",
    "    decoded_preds = tokenizer.batch_decode(predictions, skip_special_tokens=True)\n",
    "    \n",
    "    labels = np.where(labels != -100, labels, tokenizer.pad_token_id)\n",
    "    decoded_labels = tokenizer.batch_decode(labels, skip_special_tokens=True)\n",
    "        \n",
    "    sources = np.where(sources != -100, sources, tokenizer.pad_token_id)\n",
    "    decoded_inputs = tokenizer.batch_decode(sources, skip_special_tokens=True)\n",
    "    \n",
    "    # Tokenize and clean\n",
    "    decoded_preds_newln = [\"\\n\".join(nltk.sent_tokenize(pred.strip())) for pred in decoded_preds]\n",
    "    decoded_preds_space = [ \" \".join(nltk.sent_tokenize(pred.strip())) for pred in decoded_preds]\n",
    "    decoded_label_newln = [\"\\n\".join(nltk.sent_tokenize(labl.strip())) for labl in decoded_labels]\n",
    "    decoded_label_space = [ \" \".join(nltk.sent_tokenize(labl.strip())) for labl in decoded_labels]\n",
    "    decoded_input_space = [ \" \".join(nltk.sent_tokenize(inpt.strip())) for inpt in decoded_inputs]\n",
    "    \n",
    "    # sources=[\"About 95 species are currently accepted.\",\"About 95 species are currently accepted.\"]\n",
    "    # predictions=[\"About 95 you now get in.\",\"About 95 you now get in.\"]\n",
    "    # references=[[\"About 95 species are currently known.\",\"About 95 species are now accepted.\",\"95 species are now accepted.\"],\n",
    "    #             [\"About 95 species are currently known.\",\"About 95 species are now accepted.\",\"95 species are now accepted.\"]]\n",
    "\n",
    "    result_rouge = metric_rouge.compute(predictions=decoded_preds_newln, references=decoded_label_newln, use_stemmer=True)\n",
    "    result_berts = metric_bertscore.compute(predictions=decoded_preds_space, references=decoded_label_space, lang=\"en\")\n",
    "    result_sari  = metric_sari.compute(sources=decoded_input_space, predictions=decoded_preds_space, references=[[i] for i in decoded_label_space])\n",
    "\n",
    "    # Extract results\n",
    "    result = result_rouge # {key: value.mid.fmeasure * 100 for key, value in result_rouge.items()}\n",
    "    result['bert_score'] = np.mean(result_berts['f1'])\n",
    "    result['sari']       = result_sari['sari']\n",
    "    prediction_lens      = [np.count_nonzero(pred != tokenizer.pad_token_id) for pred in predictions]\n",
    "    result[\"gen_len\"]    = np.mean(prediction_lens)\n",
    "    \n",
    "    return {k: round(v, 4) for k, v in result.items()}"
   ]
  },
  {
   "cell_type": "code",
   "execution_count": 3,
   "metadata": {},
   "outputs": [
    {
     "name": "stderr",
     "output_type": "stream",
     "text": [
      "Using custom data configuration default-1eeb42a59953c14f\n",
      "Reusing dataset json (/home/lily/lyf6/.cache/huggingface/datasets/json/default-1eeb42a59953c14f/0.0.0/ac0ca5f5289a6cf108e706efcf040422dbbfa8e658dee6a819f20d76bb84d26b)\n"
     ]
    },
    {
     "data": {
      "application/vnd.jupyter.widget-view+json": {
       "model_id": "7084fccdb2ab4d52aebbbd12836afa4a",
       "version_major": 2,
       "version_minor": 0
      },
      "text/plain": [
       "  0%|          | 0/1 [00:00<?, ?it/s]"
      ]
     },
     "metadata": {},
     "output_type": "display_data"
    },
    {
     "name": "stderr",
     "output_type": "stream",
     "text": [
      "Using custom data configuration default-b244e89f5dbf8140\n",
      "Reusing dataset json (/home/lily/lyf6/.cache/huggingface/datasets/json/default-b244e89f5dbf8140/0.0.0/ac0ca5f5289a6cf108e706efcf040422dbbfa8e658dee6a819f20d76bb84d26b)\n"
     ]
    },
    {
     "data": {
      "application/vnd.jupyter.widget-view+json": {
       "model_id": "49d93bdee57d46a1bddeebce65a1f602",
       "version_major": 2,
       "version_minor": 0
      },
      "text/plain": [
       "  0%|          | 0/1 [00:00<?, ?it/s]"
      ]
     },
     "metadata": {},
     "output_type": "display_data"
    }
   ],
   "source": [
    "# Get dataset from arguments\n",
    "# parser = argparse.ArgumentParser()\n",
    "# parser.add_argument(\"dataset\")\n",
    "# args = parser.parse_args()\n",
    "# print(f\"Using dataset: {args.dataset}\")\n",
    "\n",
    "DATASET_NAME    = 'turkcorpus' # args.dataset \n",
    "dataset         = load_dataset('json', data_files=f'data/{DATASET_NAME}.json', field='train')\n",
    "dataset['test'] = load_dataset('json', data_files=f'data/{DATASET_NAME}.json', field='test')['train']\n"
   ]
  },
  {
   "cell_type": "code",
   "execution_count": 4,
   "metadata": {},
   "outputs": [
    {
     "data": {
      "application/vnd.jupyter.widget-view+json": {
       "model_id": "fd6d150266e64dc18d2c6158790b8467",
       "version_major": 2,
       "version_minor": 0
      },
      "text/plain": [
       "  0%|          | 0/16 [00:00<?, ?ba/s]"
      ]
     },
     "metadata": {},
     "output_type": "display_data"
    },
    {
     "data": {
      "application/vnd.jupyter.widget-view+json": {
       "model_id": "3b12c8d343e546be8ac6331a5ec6c28f",
       "version_major": 2,
       "version_minor": 0
      },
      "text/plain": [
       "  0%|          | 0/3 [00:00<?, ?ba/s]"
      ]
     },
     "metadata": {},
     "output_type": "display_data"
    }
   ],
   "source": [
    "# Load in the model and tokenizer, for this we're using BART, which is good at generation tasks\n",
    "if MODEL == 'bart':\n",
    "    MODEL_NAME = \"BART\"\n",
    "    model = BartForConditionalGeneration.from_pretrained(\"facebook/bart-large\" if checkpoint == None else checkpoint)\n",
    "    tokenizer = BartTokenizer.from_pretrained(\"facebook/bart-large\")\n",
    "elif MODEL == 'flant5':\n",
    "    MODEL_NAME = 'FLANT5'\n",
    "    model = AutoModelForSeq2SeqLM.from_pretrained(\"google/flan-t5-large\" if checkpoint == None else checkpoint)\n",
    "    tokenizer = AutoTokenizer.from_pretrained(\"google/flan-t5-large\")\n",
    "else:\n",
    "    assert False\n",
    "\n",
    "def preprocess_function(examples):\n",
    "    \"\"\"This function takes a batch of samples, and tokenizes them into IDs for the model\n",
    "       It does this by adding new arguments to the Dataset dictionary, namely\n",
    "       - input_ids:      tokenized IDs of the findings\n",
    "       - attention_mask: mask that tells us which tokens are words and which are padding\n",
    "       - labels:         tokenized IDs of the impressions\n",
    "    Args:\n",
    "        examples (Dataset): {'Findings':[<list of findings texts>],\n",
    "                             'Impressions':[[<list of impressions texts>] per item]}\n",
    "\n",
    "    Returns:\n",
    "        model_inputs (Dataset): {'Findings':      [<list of findings texts>],\n",
    "                                 'Impressions':   [<list of impressions texts>],\n",
    "                                 'input_ids':     list of lists with impressions IDs,\n",
    "                                 'attention_mask':list of lists with impressions IDs masks,\n",
    "                                 'labels':        list of lists with findings IDs}\n",
    "    \"\"\"\n",
    "    # Tokenize the Findings (the input)\n",
    "    model_inputs = tokenizer(examples[\"input\"], max_length=512, padding=True, truncation=True)\n",
    "    # Tokenize the Impressions (the output)\n",
    "    labels = tokenizer([lst[0] for lst in examples[\"labels\"]], max_length=512, padding=True, truncation=True)\n",
    "    # Set the label as the token ids (i.e. the vocab IDs) of the findings\n",
    "    model_inputs[\"labels\"] = labels[\"input_ids\"]\n",
    "    return model_inputs\n",
    "\n",
    "# We apply the function to all the examples in our train and test datasets\n",
    "dataset['train'] = dataset['train'].map(preprocess_function, batched=True)\n",
    "dataset['test']  = dataset['test'].map(preprocess_function, batched=True)\n",
    "\n",
    "# Remove the original columns\n",
    "dataset['train'] = dataset['train'].remove_columns([\"input\"])\n",
    "dataset['test']  = dataset['test'].remove_columns([\"input\"])\n"
   ]
  },
  {
   "cell_type": "code",
   "execution_count": 5,
   "metadata": {},
   "outputs": [],
   "source": [
    "# Write out the arguments\n",
    "MODEL_NAME = f\"{MODEL_NAME}_{DATASET_NAME}\"\n",
    "\n",
    "args = Seq2SeqTrainingArguments(\n",
    "    f\"models/{MODEL_NAME}\",\n",
    "    evaluation_strategy = \"epoch\",\n",
    "    learning_rate=2e-5,\n",
    "    per_device_train_batch_size=8,\n",
    "    per_device_eval_batch_size=8,\n",
    "    weight_decay=0.01,\n",
    "    save_total_limit=3,\n",
    "    num_train_epochs=1,\n",
    "    predict_with_generate=True,\n",
    "    fp16=True,\n",
    "    include_inputs_for_metrics=True,\n",
    "    report_to=\"wandb\"\n",
    ")\n",
    "\n",
    "# data_collator = DataCollatorForSeq2Seq(tokenizer, model=model)\n",
    "data_collator = DataCollatorForSeq2Seq(tokenizer)\n",
    "\n",
    "# Create the Trainer and train\n",
    "trainer = Seq2SeqTrainer(\n",
    "    model=model, # None,\n",
    "    args=args,\n",
    "    # model_init=model_init,\n",
    "    train_dataset=dataset['train'],\n",
    "    eval_dataset=dataset['test'],\n",
    "    data_collator=data_collator,\n",
    "    tokenizer=tokenizer,\n",
    "    compute_metrics=compute_metrics\n",
    ")"
   ]
  },
  {
   "cell_type": "code",
   "execution_count": 11,
   "metadata": {},
   "outputs": [
    {
     "ename": "AttributeError",
     "evalue": "'dict' object has no attribute 'size'",
     "output_type": "error",
     "traceback": [
      "\u001b[0;31m---------------------------------------------------------------------------\u001b[0m",
      "\u001b[0;31mAttributeError\u001b[0m                            Traceback (most recent call last)",
      "Cell \u001b[0;32mIn[11], line 1\u001b[0m\n\u001b[0;32m----> 1\u001b[0m model(dataset[\u001b[39m'\u001b[39;49m\u001b[39mtrain\u001b[39;49m\u001b[39m'\u001b[39;49m][:\u001b[39m5\u001b[39;49m])\n",
      "File \u001b[0;32m~/miniconda3/envs/simplification/lib/python3.8/site-packages/torch/nn/modules/module.py:1194\u001b[0m, in \u001b[0;36mModule._call_impl\u001b[0;34m(self, *input, **kwargs)\u001b[0m\n\u001b[1;32m   1190\u001b[0m \u001b[39m# If we don't have any hooks, we want to skip the rest of the logic in\u001b[39;00m\n\u001b[1;32m   1191\u001b[0m \u001b[39m# this function, and just call forward.\u001b[39;00m\n\u001b[1;32m   1192\u001b[0m \u001b[39mif\u001b[39;00m \u001b[39mnot\u001b[39;00m (\u001b[39mself\u001b[39m\u001b[39m.\u001b[39m_backward_hooks \u001b[39mor\u001b[39;00m \u001b[39mself\u001b[39m\u001b[39m.\u001b[39m_forward_hooks \u001b[39mor\u001b[39;00m \u001b[39mself\u001b[39m\u001b[39m.\u001b[39m_forward_pre_hooks \u001b[39mor\u001b[39;00m _global_backward_hooks\n\u001b[1;32m   1193\u001b[0m         \u001b[39mor\u001b[39;00m _global_forward_hooks \u001b[39mor\u001b[39;00m _global_forward_pre_hooks):\n\u001b[0;32m-> 1194\u001b[0m     \u001b[39mreturn\u001b[39;00m forward_call(\u001b[39m*\u001b[39;49m\u001b[39minput\u001b[39;49m, \u001b[39m*\u001b[39;49m\u001b[39m*\u001b[39;49mkwargs)\n\u001b[1;32m   1195\u001b[0m \u001b[39m# Do not call functions when jit is used\u001b[39;00m\n\u001b[1;32m   1196\u001b[0m full_backward_hooks, non_full_backward_hooks \u001b[39m=\u001b[39m [], []\n",
      "File \u001b[0;32m~/miniconda3/envs/simplification/lib/python3.8/site-packages/transformers/models/t5/modeling_t5.py:1665\u001b[0m, in \u001b[0;36mT5ForConditionalGeneration.forward\u001b[0;34m(self, input_ids, attention_mask, decoder_input_ids, decoder_attention_mask, head_mask, decoder_head_mask, cross_attn_head_mask, encoder_outputs, past_key_values, inputs_embeds, decoder_inputs_embeds, labels, use_cache, output_attentions, output_hidden_states, return_dict)\u001b[0m\n\u001b[1;32m   1662\u001b[0m \u001b[39m# Encode if needed (training, first prediction pass)\u001b[39;00m\n\u001b[1;32m   1663\u001b[0m \u001b[39mif\u001b[39;00m encoder_outputs \u001b[39mis\u001b[39;00m \u001b[39mNone\u001b[39;00m:\n\u001b[1;32m   1664\u001b[0m     \u001b[39m# Convert encoder inputs in embeddings if needed\u001b[39;00m\n\u001b[0;32m-> 1665\u001b[0m     encoder_outputs \u001b[39m=\u001b[39m \u001b[39mself\u001b[39;49m\u001b[39m.\u001b[39;49mencoder(\n\u001b[1;32m   1666\u001b[0m         input_ids\u001b[39m=\u001b[39;49minput_ids,\n\u001b[1;32m   1667\u001b[0m         attention_mask\u001b[39m=\u001b[39;49mattention_mask,\n\u001b[1;32m   1668\u001b[0m         inputs_embeds\u001b[39m=\u001b[39;49minputs_embeds,\n\u001b[1;32m   1669\u001b[0m         head_mask\u001b[39m=\u001b[39;49mhead_mask,\n\u001b[1;32m   1670\u001b[0m         output_attentions\u001b[39m=\u001b[39;49moutput_attentions,\n\u001b[1;32m   1671\u001b[0m         output_hidden_states\u001b[39m=\u001b[39;49moutput_hidden_states,\n\u001b[1;32m   1672\u001b[0m         return_dict\u001b[39m=\u001b[39;49mreturn_dict,\n\u001b[1;32m   1673\u001b[0m     )\n\u001b[1;32m   1674\u001b[0m \u001b[39melif\u001b[39;00m return_dict \u001b[39mand\u001b[39;00m \u001b[39mnot\u001b[39;00m \u001b[39misinstance\u001b[39m(encoder_outputs, BaseModelOutput):\n\u001b[1;32m   1675\u001b[0m     encoder_outputs \u001b[39m=\u001b[39m BaseModelOutput(\n\u001b[1;32m   1676\u001b[0m         last_hidden_state\u001b[39m=\u001b[39mencoder_outputs[\u001b[39m0\u001b[39m],\n\u001b[1;32m   1677\u001b[0m         hidden_states\u001b[39m=\u001b[39mencoder_outputs[\u001b[39m1\u001b[39m] \u001b[39mif\u001b[39;00m \u001b[39mlen\u001b[39m(encoder_outputs) \u001b[39m>\u001b[39m \u001b[39m1\u001b[39m \u001b[39melse\u001b[39;00m \u001b[39mNone\u001b[39;00m,\n\u001b[1;32m   1678\u001b[0m         attentions\u001b[39m=\u001b[39mencoder_outputs[\u001b[39m2\u001b[39m] \u001b[39mif\u001b[39;00m \u001b[39mlen\u001b[39m(encoder_outputs) \u001b[39m>\u001b[39m \u001b[39m2\u001b[39m \u001b[39melse\u001b[39;00m \u001b[39mNone\u001b[39;00m,\n\u001b[1;32m   1679\u001b[0m     )\n",
      "File \u001b[0;32m~/miniconda3/envs/simplification/lib/python3.8/site-packages/torch/nn/modules/module.py:1194\u001b[0m, in \u001b[0;36mModule._call_impl\u001b[0;34m(self, *input, **kwargs)\u001b[0m\n\u001b[1;32m   1190\u001b[0m \u001b[39m# If we don't have any hooks, we want to skip the rest of the logic in\u001b[39;00m\n\u001b[1;32m   1191\u001b[0m \u001b[39m# this function, and just call forward.\u001b[39;00m\n\u001b[1;32m   1192\u001b[0m \u001b[39mif\u001b[39;00m \u001b[39mnot\u001b[39;00m (\u001b[39mself\u001b[39m\u001b[39m.\u001b[39m_backward_hooks \u001b[39mor\u001b[39;00m \u001b[39mself\u001b[39m\u001b[39m.\u001b[39m_forward_hooks \u001b[39mor\u001b[39;00m \u001b[39mself\u001b[39m\u001b[39m.\u001b[39m_forward_pre_hooks \u001b[39mor\u001b[39;00m _global_backward_hooks\n\u001b[1;32m   1193\u001b[0m         \u001b[39mor\u001b[39;00m _global_forward_hooks \u001b[39mor\u001b[39;00m _global_forward_pre_hooks):\n\u001b[0;32m-> 1194\u001b[0m     \u001b[39mreturn\u001b[39;00m forward_call(\u001b[39m*\u001b[39;49m\u001b[39minput\u001b[39;49m, \u001b[39m*\u001b[39;49m\u001b[39m*\u001b[39;49mkwargs)\n\u001b[1;32m   1195\u001b[0m \u001b[39m# Do not call functions when jit is used\u001b[39;00m\n\u001b[1;32m   1196\u001b[0m full_backward_hooks, non_full_backward_hooks \u001b[39m=\u001b[39m [], []\n",
      "File \u001b[0;32m~/miniconda3/envs/simplification/lib/python3.8/site-packages/transformers/models/t5/modeling_t5.py:963\u001b[0m, in \u001b[0;36mT5Stack.forward\u001b[0;34m(self, input_ids, attention_mask, encoder_hidden_states, encoder_attention_mask, inputs_embeds, head_mask, cross_attn_head_mask, past_key_values, use_cache, output_attentions, output_hidden_states, return_dict)\u001b[0m\n\u001b[1;32m    959\u001b[0m     \u001b[39mraise\u001b[39;00m \u001b[39mValueError\u001b[39;00m(\n\u001b[1;32m    960\u001b[0m         \u001b[39mf\u001b[39m\u001b[39m\"\u001b[39m\u001b[39mYou cannot specify both \u001b[39m\u001b[39m{\u001b[39;00merr_msg_prefix\u001b[39m}\u001b[39;00m\u001b[39minput_ids and \u001b[39m\u001b[39m{\u001b[39;00merr_msg_prefix\u001b[39m}\u001b[39;00m\u001b[39minputs_embeds at the same time\u001b[39m\u001b[39m\"\u001b[39m\n\u001b[1;32m    961\u001b[0m     )\n\u001b[1;32m    962\u001b[0m \u001b[39melif\u001b[39;00m input_ids \u001b[39mis\u001b[39;00m \u001b[39mnot\u001b[39;00m \u001b[39mNone\u001b[39;00m:\n\u001b[0;32m--> 963\u001b[0m     input_shape \u001b[39m=\u001b[39m input_ids\u001b[39m.\u001b[39;49msize()\n\u001b[1;32m    964\u001b[0m     input_ids \u001b[39m=\u001b[39m input_ids\u001b[39m.\u001b[39mview(\u001b[39m-\u001b[39m\u001b[39m1\u001b[39m, input_shape[\u001b[39m-\u001b[39m\u001b[39m1\u001b[39m])\n\u001b[1;32m    965\u001b[0m \u001b[39melif\u001b[39;00m inputs_embeds \u001b[39mis\u001b[39;00m \u001b[39mnot\u001b[39;00m \u001b[39mNone\u001b[39;00m:\n",
      "\u001b[0;31mAttributeError\u001b[0m: 'dict' object has no attribute 'size'"
     ]
    }
   ],
   "source": [
    "model(dataset['train'][:5])"
   ]
  },
  {
   "cell_type": "code",
   "execution_count": null,
   "metadata": {},
   "outputs": [],
   "source": [
    "# best_trial = trainer.hyperparameter_search(\n",
    "#     direction=\"minimize\",\n",
    "#     backend=\"wandb\",\n",
    "#     hp_space=wandb_hp_space,\n",
    "#     n_trials=3,\n",
    "# )\n",
    "# print('########### BEST TRIAL ###########')\n",
    "# print(best_trial)\n",
    "# print('##################################')\n",
    "\n",
    "trainer.train()\n",
    "\n",
    "# Run evaluate to obtain the model's performance on the test dataset \n",
    "# trainer.evaluate()"
   ]
  },
  {
   "cell_type": "code",
   "execution_count": 9,
   "metadata": {},
   "outputs": [
    {
     "data": {
      "text/html": [
       "\n",
       "    <div>\n",
       "      \n",
       "      <progress value='225' max='225' style='width:300px; height:20px; vertical-align: middle;'></progress>\n",
       "      [225/225 03:42]\n",
       "    </div>\n",
       "    "
      ],
      "text/plain": [
       "<IPython.core.display.HTML object>"
      ]
     },
     "metadata": {},
     "output_type": "display_data"
    },
    {
     "name": "stderr",
     "output_type": "stream",
     "text": [
      "ERROR:wandb.jupyter:Failed to detect the name of this notebook, you can set it manually with the WANDB_NOTEBOOK_NAME environment variable to enable code saving.\n",
      "\u001b[34m\u001b[1mwandb\u001b[0m: Currently logged in as: \u001b[33mljyflores_team\u001b[0m (use `wandb login --relogin` to force relogin)\n",
      "\u001b[34m\u001b[1mwandb\u001b[0m: wandb version 0.13.11 is available!  To upgrade, please run:\n",
      "\u001b[34m\u001b[1mwandb\u001b[0m:  $ pip install wandb --upgrade\n"
     ]
    },
    {
     "data": {
      "text/html": [
       "\n",
       "                    Syncing run <strong><a href=\"https://wandb.ai/ljyflores_team/huggingface/runs/3n9i6og4\" target=\"_blank\">zany-puddle-51</a></strong> to <a href=\"https://wandb.ai/ljyflores_team/huggingface\" target=\"_blank\">Weights & Biases</a> (<a href=\"https://docs.wandb.com/integrations/jupyter.html\" target=\"_blank\">docs</a>).<br/>\n",
       "\n",
       "                "
      ],
      "text/plain": [
       "<IPython.core.display.HTML object>"
      ]
     },
     "metadata": {},
     "output_type": "display_data"
    },
    {
     "data": {
      "text/plain": [
       "{'eval_loss': 13.650123596191406,\n",
       " 'eval_rouge1': 0.6202,\n",
       " 'eval_rouge2': 0.4409,\n",
       " 'eval_rougeL': 0.5768,\n",
       " 'eval_rougeLsum': 0.5799,\n",
       " 'eval_bert_score': 0.9275,\n",
       " 'eval_sari': 37.5662,\n",
       " 'eval_gen_len': 19.1588,\n",
       " 'eval_runtime': 258.5198,\n",
       " 'eval_samples_per_second': 13.887,\n",
       " 'eval_steps_per_second': 0.87}"
      ]
     },
     "execution_count": 9,
     "metadata": {},
     "output_type": "execute_result"
    }
   ],
   "source": [
    "# Run evaluate to obtain the model's performance on the test dataset \n",
    "trainer.evaluate()"
   ]
  },
  {
   "cell_type": "code",
   "execution_count": 26,
   "metadata": {},
   "outputs": [],
   "source": [
    "test_labels = torch.load('labels.pt')\n",
    "labels = np.where(test_labels != -100, test_labels, tokenizer.pad_token_id)\n",
    "tokenizer.batch_decode(labels)"
   ]
  },
  {
   "cell_type": "code",
   "execution_count": 9,
   "metadata": {},
   "outputs": [
    {
     "data": {
      "text/html": [],
      "text/plain": [
       "<IPython.core.display.HTML object>"
      ]
     },
     "metadata": {},
     "output_type": "display_data"
    },
    {
     "data": {
      "text/plain": [
       "['</s><s><s>Adjacent counties are Marin (to the south), Mendocino (to</s>',\n",
       " '</s><s>A Georgian inscription around the drum attests his name.</s><pad><pad><pad><pad><pad><pad>',\n",
       " '</s><s>They would later return to the revived series in the 2008 Christmas Special \"The Next Doctor</s>',\n",
       " \"</s><s>Jameson's autobiography, How to Make Love Like a Porn Star: A Caution</s>\",\n",
       " '</s><s>It is particularly famous for the cultivation of kiwifruit.</s><pad><pad><pad><pad>',\n",
       " '</s><s>Singles competition (2002 – 2003) After years in the tag team division, Hardy</s>',\n",
       " '</s><s>Many of the churches work together for town-wide projects under the banner of \"Ch</s>',\n",
       " '</s><s>Word processing templates enable the ability to bypass the initial setup and configuration time necessary to create</s>',\n",
       " '</s><s>Rollins retired in 1962 and opted to become a coach.</s><pad><pad><pad><pad><pad>',\n",
       " \"</s><s>History Landsberg prison, which is in the town's western outskirts, was completed in</s>\",\n",
       " '</s><s>A hunting dog refers to any dog who assists humans in hunting.</s><pad><pad><pad><pad>',\n",
       " '</s><s>The Empire of Nicaea succeeded in capturing Constantinople and the rest of the Latin Empire,</s>',\n",
       " '</s><s>This led scientists to re-examine the old photos again, and the satellite was</s>',\n",
       " '</s><s>Marcel Junod (1904 - 1961), a physician from Geneva, was another</s>',\n",
       " \"</s><s>Whisenhunt's career as a player included 4 years (1985 - 88) as</s>\",\n",
       " '</s><s>In return, Romania ceded three southern districts of Bessarabia to Russia</s>',\n",
       " '</s><s>In March 2001, the World Wrestling Federation purchased World Championship Wrestling.</s><pad><pad><pad><pad>',\n",
       " '</s><s>The West Coast blues is a type of blues music characterized by jazz and jump blues influences</s>',\n",
       " '</s><s>Subsequent visits reported seeing the flag flying from places of honor.</s><pad><pad><pad><pad>',\n",
       " '</s><s>Agriculture Locals grow seasonal crops such as Maize (makai)</s>',\n",
       " '</s><s>In 2004, Roy was selected as the greatest goaltender in NHL history by a panel of</s>',\n",
       " '</s><s>Frances was later absorbed by an extratropical cyclone on November 21.</s>',\n",
       " '</s><s>Tracking northwestward, the depression moved ashore near Fort Walton Beach early on September 22</s>',\n",
       " '</s><s>Anthony McGill is the principal clarinetist for the Metropolitan Opera.</s><pad><pad><pad><pad>',\n",
       " '</s><s>The Author (s) of the Document do not by this License give permission to use</s>',\n",
       " '</s><s>The British Rail Class 91 is a class of 140 mph (225 km / h),</s>',\n",
       " '</s><s>The premiere received a 2.79 rating, making it the highest rated show on cable</s>',\n",
       " '</s><s>There are claims that thousands of people were impaled at a single time.</s><pad><pad>',\n",
       " '</s><s>The name \"hornet\" is used for this and related species primarily because of their</s>',\n",
       " '</s><s>In 1589, salt began to be made in Sunderland.</s><pad><pad><pad><pad><pad>',\n",
       " '</s><s>Some trails are designated as nature trails, and are used by people learning about the natural</s>',\n",
       " '</s><s>In August 2007, Hager was reassigned to Florida Championship Wrestling, where he began</s>',\n",
       " '</s><s>These rock formations are characteristically composed of sandstone with layers of quartz.</s><pad><pad>',\n",
       " '</s><s>Notably absent from the city are fortifications and military structures.</s><pad><pad><pad><pad>',\n",
       " '</s><s>San Francisco Bay is located in the U. S. state of California, surrounded by</s>',\n",
       " '</s><s>Adrastea was discovered by David C. Jewitt and G. Edward Dani</s>',\n",
       " '</s><s>Picasa Web Albums was first leaked on June 6, 2006.</s><pad><pad><pad>',\n",
       " '</s><s>It is probably a primitive body composed of carbonates.</s><pad><pad><pad><pad><pad><pad>',\n",
       " '</s><s>Either way, Artemis was born first and then assisted with the birth of Apollo.</s><pad>',\n",
       " '</s><s>The park has become a traditional location for mass demonstrations.</s><pad><pad><pad><pad><pad><pad>',\n",
       " '</s><s>Breaking Dawn is the fourth and final novel in the Twilight series by Stephenie Meyer.</s>',\n",
       " '</s><s>The main town is Abingdon, other places include Faringdon and Wantage</s>',\n",
       " '</s><s>The municipality has about 5700 inhabitants.</s><pad><pad><pad><pad><pad><pad><pad><pad><pad>',\n",
       " '</s><s>42 – 59 External links 2001 Census, accessed Nov. 29, 2006 geo.</s><pad>',\n",
       " '</s><s>It was discovered by a team of astronomers from the University of Hawaii led by Scott S</s>',\n",
       " '</s><s>Nocturnes is an orchestral composition in three movements by the French composer</s>',\n",
       " '</s><s>The Alexandrian Life of Aeschylus indicates that the playwright took the</s>',\n",
       " '</s><s>Calvinism gained some popularity in Scandinavia, especially Sweden, but was rejected in</s>',\n",
       " '</s><s>He was holidaying in Germany the following summer when World War I broke out.</s><pad>',\n",
       " '</s><s>In order to accomplish their objective, surveyors use elements of geometry, engineering, trig</s>',\n",
       " '</s><s>Given their low metabolic rate and the low density of prey at such depths, Vampire Squid</s>',\n",
       " '</s><s>In the 1950s Camus devoted his efforts to human rights.</s><pad><pad><pad><pad>',\n",
       " '</s><s>Iron Maiden, released on April 14, 1980, is the debut album by heavy metal</s>',\n",
       " \"</s><s>The Vezina Trophy is awarded annually to the National Hockey League's goaltender who is</s>\",\n",
       " '</s><s>It was discovered by a team of astronomers from the University of Hawaii led by Scott S</s>',\n",
       " '</s><s>Hydra appears to be spectrally neutral like Charon and Nix, though</s>',\n",
       " '</s><s>Key factors in an RTOS are therefore a minimal interrupt latency and a minimal thread switching</s>',\n",
       " '</s><s>The waxing crescent moon \"represents a young nation on the ascendant\".</s>',\n",
       " '</s><s>The ALU is a fundamental building block of the central processing unit (CPU) of</s>',\n",
       " '</s><s>Probably in the ninth century, the village became part of the territory of the monastery of</s>',\n",
       " '</s><s>At the 2008 Cannes Film Festival, Alain Siritzky announced that a worldwide</s>',\n",
       " '</s><s>Hardy also cites \"burn out\" and the need for time off as reasons for</s>',\n",
       " '</s><s>Q is the seventeenth letter of the basic modern Latin alphabet.</s><pad><pad><pad><pad>',\n",
       " '</s><s>Among the casualties were two fishers who were reported missing.</s><pad><pad><pad><pad><pad>',\n",
       " '</s><s>This book by itself is out of print having been published along with nine short stories in</s>',\n",
       " '</s><s>The 1977 Atlantic hurricane season officially began on June 1, 1977, and lasted until November</s>',\n",
       " '</s><s>Due to the Cold War, subsequent trials never took place.</s><pad><pad><pad><pad><pad>',\n",
       " '</s><s>Dundee has two universities — the University of Abertay Dundee and the</s>',\n",
       " '</s><s>John Paul Stevens (born April 20, 1920) is the senior Associate Justice of the</s>',\n",
       " '</s><s>For a period, platforms at both the old and new stations operated, before the original</s>',\n",
       " '</s><s><s>Adjacent counties are Marin (to the south), Mendocino (to</s>',\n",
       " '</s><s>A Georgian inscription around the drum attests his name.</s><pad><pad><pad><pad><pad><pad>',\n",
       " '</s><s>They would later return to the revived series in the 2008 Christmas Special \"The Next Doctor</s>',\n",
       " \"</s><s>Jameson's autobiography, How to Make Love Like a Porn Star: A Caution</s>\",\n",
       " '</s><s>It is particularly famous for the cultivation of kiwifruit.</s><pad><pad><pad><pad>',\n",
       " '</s><s>Singles competition (2002 – 2003) After years in the tag team division, Hardy</s>',\n",
       " '</s><s>Many of the churches work together for town-wide projects under the banner of \"Ch</s>',\n",
       " '</s><s>Word processing templates enable the ability to bypass the initial setup and configuration time necessary to create</s>',\n",
       " '</s><s>Rollins retired in 1962 and opted to become a coach.</s><pad><pad><pad><pad><pad>',\n",
       " \"</s><s>History Landsberg prison, which is in the town's western outskirts, was completed in</s>\",\n",
       " '</s><s>A hunting dog refers to any dog who assists humans in hunting.</s><pad><pad><pad><pad>',\n",
       " '</s><s>The Empire of Nicaea succeeded in capturing Constantinople and the rest of the Latin Empire,</s>',\n",
       " '</s><s>This led scientists to re-examine the old photos again, and the satellite was</s>',\n",
       " '</s><s>Marcel Junod (1904 - 1961), a physician from Geneva, was another</s>',\n",
       " \"</s><s>Whisenhunt's career as a player included 4 years (1985 - 88) as</s>\",\n",
       " '</s><s>In return, Romania ceded three southern districts of Bessarabia to Russia</s>',\n",
       " '</s><s>In March 2001, the World Wrestling Federation purchased World Championship Wrestling.</s><pad><pad><pad><pad>',\n",
       " '</s><s>The West Coast blues is a type of blues music characterized by jazz and jump blues influences</s>',\n",
       " '</s><s>Subsequent visits reported seeing the flag flying from places of honor.</s><pad><pad><pad><pad>',\n",
       " '</s><s>Agriculture Locals grow seasonal crops such as Maize (makai)</s>',\n",
       " '</s><s>In 2004, Roy was selected as the greatest goaltender in NHL history by a panel of</s>',\n",
       " '</s><s>Frances was later absorbed by an extratropical cyclone on November 21.</s>',\n",
       " '</s><s>Tracking northwestward, the depression moved ashore near Fort Walton Beach early on September 22</s>',\n",
       " '</s><s>Anthony McGill is the principal clarinetist for the Metropolitan Opera.</s><pad><pad><pad><pad>',\n",
       " '</s><s>The Author (s) of the Document do not by this License give permission to use</s>',\n",
       " '</s><s>The British Rail Class 91 is a class of 140 mph (225 km / h),</s>',\n",
       " '</s><s>The premiere received a 2.79 rating, making it the highest rated show on cable</s>',\n",
       " '</s><s>There are claims that thousands of people were impaled at a single time.</s><pad><pad>',\n",
       " '</s><s>The name \"hornet\" is used for this and related species primarily because of their</s>',\n",
       " '</s><s>In 1589, salt began to be made in Sunderland.</s><pad><pad><pad><pad><pad>',\n",
       " '</s><s>Some trails are designated as nature trails, and are used by people learning about the natural</s>',\n",
       " '</s><s>In August 2007, Hager was reassigned to Florida Championship Wrestling, where he began</s>',\n",
       " '</s><s>These rock formations are characteristically composed of sandstone with layers of quartz.</s><pad><pad>',\n",
       " '</s><s>Notably absent from the city are fortifications and military structures.</s><pad><pad><pad><pad>',\n",
       " '</s><s>San Francisco Bay is located in the U. S. state of California, surrounded by</s>',\n",
       " '</s><s>Adrastea was discovered by David C. Jewitt and G. Edward Dani</s>',\n",
       " '</s><s>Picasa Web Albums was first leaked on June 6, 2006.</s><pad><pad><pad>',\n",
       " '</s><s>It is probably a primitive body composed of carbonates.</s><pad><pad><pad><pad><pad><pad>',\n",
       " '</s><s>Either way, Artemis was born first and then assisted with the birth of Apollo.</s><pad>',\n",
       " '</s><s>The park has become a traditional location for mass demonstrations.</s><pad><pad><pad><pad><pad><pad>',\n",
       " '</s><s>Breaking Dawn is the fourth and final novel in the Twilight series by Stephenie Meyer.</s>',\n",
       " '</s><s>The main town is Abingdon, other places include Faringdon and Wantage</s>',\n",
       " '</s><s>The municipality has about 5700 inhabitants.</s><pad><pad><pad><pad><pad><pad><pad><pad><pad>',\n",
       " '</s><s>42 – 59 External links 2001 Census, accessed Nov. 29, 2006 geo.</s><pad>',\n",
       " '</s><s>It was discovered by a team of astronomers from the University of Hawaii led by Scott S</s>',\n",
       " '</s><s>Nocturnes is an orchestral composition in three movements by the French composer</s>',\n",
       " '</s><s>The Alexandrian Life of Aeschylus indicates that the playwright took the</s>',\n",
       " '</s><s>Calvinism gained some popularity in Scandinavia, especially Sweden, but was rejected in</s>',\n",
       " '</s><s>He was holidaying in Germany the following summer when World War I broke out.</s><pad>',\n",
       " '</s><s>In order to accomplish their objective, surveyors use elements of geometry, engineering, trig</s>',\n",
       " '</s><s>Given their low metabolic rate and the low density of prey at such depths, Vampire Squid</s>',\n",
       " '</s><s>In the 1950s Camus devoted his efforts to human rights.</s><pad><pad><pad><pad>',\n",
       " '</s><s>Iron Maiden, released on April 14, 1980, is the debut album by heavy metal</s>',\n",
       " \"</s><s>The Vezina Trophy is awarded annually to the National Hockey League's goaltender who is</s>\",\n",
       " '</s><s>It was discovered by a team of astronomers from the University of Hawaii led by Scott S</s>',\n",
       " '</s><s>Hydra appears to be spectrally neutral like Charon and Nix, though</s>',\n",
       " '</s><s>Key factors in an RTOS are therefore a minimal interrupt latency and a minimal thread switching</s>',\n",
       " '</s><s>The waxing crescent moon \"represents a young nation on the ascendant\".</s>',\n",
       " '</s><s>The ALU is a fundamental building block of the central processing unit (CPU) of</s>',\n",
       " '</s><s>Probably in the ninth century, the village became part of the territory of the monastery of</s>',\n",
       " '</s><s>At the 2008 Cannes Film Festival, Alain Siritzky announced that a worldwide</s>',\n",
       " '</s><s>Hardy also cites \"burn out\" and the need for time off as reasons for</s>',\n",
       " '</s><s>Q is the seventeenth letter of the basic modern Latin alphabet.</s><pad><pad><pad><pad>',\n",
       " '</s><s>Among the casualties were two fishers who were reported missing.</s><pad><pad><pad><pad><pad>',\n",
       " '</s><s>This book by itself is out of print having been published along with nine short stories in</s>',\n",
       " '</s><s>The 1977 Atlantic hurricane season officially began on June 1, 1977, and lasted until November</s>',\n",
       " '</s><s>Due to the Cold War, subsequent trials never took place.</s><pad><pad><pad><pad><pad>',\n",
       " '</s><s>Dundee has two universities — the University of Abertay Dundee and the</s>',\n",
       " '</s><s>John Paul Stevens (born April 20, 1920) is the senior Associate Justice of the</s>',\n",
       " '</s><s>For a period, platforms at both the old and new stations operated, before the original</s>',\n",
       " '</s><s>However, all of the storms that have impacted Arizona have formed in the latter parts of</s>',\n",
       " '</s><s>The two Byzantine outbreaks during the 8th and 9th centuries were unusual in that the</s>',\n",
       " '</s><s>It was discovered by a team of astronomers from the University of Hawaii led by Scott S</s>',\n",
       " '</s><s>The French word bourgeois evolved from the Old French word burgeis, meaning \"an</s>',\n",
       " '</s><s>The Book of Nehemiah is a book of the Hebrew Bible, historically regarded as</s>',\n",
       " '</s><s>The Erotian surface gravity varies greatly, since Eros is not a sphere but</s>',\n",
       " '</s><s>Definition Overview The key idea behind a Reed – Solomon code is that the data encoded is</s>',\n",
       " '</s><s>The WWF consisted of Stone Cold Steve Austin, Kurt Angle, Chris Jericho, Kane,</s>',\n",
       " '</s><s>Memory locations can also be renamed, although it is not commonly done to the extent pract</s>',\n",
       " '</s><s>Disputes between European and Chinese miners flared into brawls at Daylesford</s>',\n",
       " '</s><s>Tourism is concentrated in the mountains, particularly around the towns of Davos / A</s>',\n",
       " '</s><s>It was discovered on February 27, 1995.</s><pad><pad><pad><pad><pad><pad><pad><pad>',\n",
       " '</s><s>They were introduced to Europe in 1846 by Robert Fortune, collector for the London Hort</s>',\n",
       " '</s><s>He began this form of ministry in 1947 and continued until recently.</s><pad><pad><pad><pad>',\n",
       " '</s><s>Anne Frank was deported on the last train from Westerbork.</s><pad><pad><pad><pad>',\n",
       " '</s><s>Upper body Sleeveless shirt Tank top, wife beater, singlet</s>',\n",
       " '</s><s>The moon is very elongated, with its short axis 0.5 ± 0.</s>',\n",
       " \"</s><s>They claimed to be playing an April Fool's joke, but most people who saw the</s>\",\n",
       " '</s><s>A parallel to tributaries is the distributary, a river that branches off of</s>',\n",
       " '</s><s>The inner eyewall dissipated as a 23 mile (37 km) outer ey</s>',\n",
       " \"</s><s>The White Sox play in the American League's Central Division.</s><pad><pad><pad><pad><pad>\",\n",
       " '</s><s>When Damocles was discovered, in 1991 by Robert H. McNaught, it</s>',\n",
       " '</s><s>The Blake River Megacaldera Complex is considered a supervolcano due to</s>',\n",
       " '</s><s>Six species live in the greater Caribbean region, including the Queen Conch, and the</s>',\n",
       " '</s><s>With its completion in 1992, uninterrupted water transport was made possible between the North Sea and</s>',\n",
       " '</s><s>World temperatures could rise by between 1.1 and 6.4 ° C (2</s>',\n",
       " '</s><s>In reality Angle announced that he would be having neck surgery in May and would be out</s>',\n",
       " '</s><s>These flies are clothed in black or pale (white or golden) hairs, and are</s>',\n",
       " '</s><s>Packaged instant soups come in several varieties: A packet of dry soup stock (</s>',\n",
       " '</s><s>Since 1980 the senior pastor has been John Piper.</s><pad><pad><pad><pad><pad><pad><pad>',\n",
       " '</s><s>It aims to be fast and lightweight, while still being visually appealing and easy to use</s>',\n",
       " '</s><s>The subsequent campaigns were more or less successful, and the Imperial Exarchate was established</s>',\n",
       " '</s><s>September 13 - Astronomers from the European Southern Observatory (ESO) announce images that</s>',\n",
       " '</s><s>In 1919, all of the major pro-independence factions formed the Provisional Government in</s>',\n",
       " '</s><s>This has the advantage of evenly distributed spatial resolution without singularities (i. e.</s>',\n",
       " '</s><s>One winter night, she was left alone while her son and his wife went to a</s>',\n",
       " '</s><s>Since then, the medal has been awarded 1,356 times to 1,353 individual</s>',\n",
       " '</s><s>Justification is seen by Protestants as being the theological fault line that divided Roman Catholic from</s>',\n",
       " '</s><s>The tornado destroyed 20 homes, left 30 others severely damaged, injured one person, and</s>',\n",
       " '</s><s>Ban became actively involved in issues relating to inter-Korean relationships.</s><pad><pad><pad>',\n",
       " '</s><s>Ensuring that the food supply is free of contamination.</s><pad><pad><pad><pad><pad>',\n",
       " '</s><s>The series returned from hiatus on February 7, 2007 and was aired at 10: 00</s>',\n",
       " '</s><s>The hot metal straightener slid easily through the hair, causing less damage and dryness</s>',\n",
       " '</s><s>Partnerships Since 1990 the district has a partnership with the district Main-Kinzig</s>',\n",
       " '</s><s>Its articles are now carried by press release archives like World News, scoop.</s><pad><pad>',\n",
       " '</s><s>Geography The Caucasus Mountains are generally perceived to be a dividing line between Asia and Europe</s>',\n",
       " '</s><s>Description Anchovies are small green fish with blue reflections due to a silver longitudinal stripe that</s>',\n",
       " '</s><s>Other users and bots may edit pages in your user space, though by convention your user</s>',\n",
       " '</s><s>Diacritical marks and non-English letters are ignored, while numerical entries such as</s>',\n",
       " '</s><s>Luis Suárez Miramontes (born May 2, 1935) is</s>',\n",
       " '</s><s>Coupled with the aggressive expansion and expanded menu came the outsourcing of baked goods.</s>',\n",
       " '</s><s>These benefits are in some ways similar to those realized by owners of infrastructural</s>',\n",
       " '</s><s>Greenland first entertained the idea of a flag of its own in 1973 when five Greenland</s>',\n",
       " '</s><s>They can also be used as a general test tube substitute particularly when a larger volume is</s>',\n",
       " '</s><s>Grosse Ile Township is a civil township of Wayne County in the U. S</s>',\n",
       " '</s><s>In respective singles matches, John Cena defeated Sabu in an Extreme lumberjack match,</s>',\n",
       " '</s><s>Tiko United FC is a Cameroonian football club based in Tiko.</s><pad><pad>',\n",
       " '</s><s>In 1998, she contributed back-up vocals for the Refugee Camp\\'s \"It\\'s</s>',\n",
       " '</s><s>Tube sound (or valve sound) is the characteristic sound associated with a vacuum tube-</s>',\n",
       " '</s><s>Great Seal of the United States Francis Hopkinson provided assistance to the second committee that designed</s>',\n",
       " '</s><s>He was responsible there for music, the organ, directing chants and choir, etc.</s>',\n",
       " '</s><s>The Renault Vel Satis is an executive car produced by the French manufacturer Renault.</s><pad>',\n",
       " '</s><s>Neptune is the eighth and outermost-known planet from the Sun in the</s>',\n",
       " '</s><s>Riluzole does not reverse the damage already done to motor neurons, and patients</s>',\n",
       " '</s><s>Hurwicz was inducted into the American Academy of Arts and Sciences in 1965.</s>',\n",
       " '</s><s>In 1997 Ignacio Ramonet, editor of Le Monde Diplomatique, renewed</s>',\n",
       " '</s><s>Description Pack rats are prevalent in the deserts and highlands of western United States and northern</s>',\n",
       " '</s><s>The Parlement law courts of ancien régime France are established.</s><pad>',\n",
       " '</s><s>Wilbur repays Charlotte by bringing home with him the sac of eggs (her \"</s>',\n",
       " '</s><s>She aided Theseus in overcoming the Minotaur and later became the bride of the god Dion</s>',\n",
       " '</s><s>Nessler An early alternative method for curling hair that was suitable for use on people</s>',\n",
       " '</s><s>In 1972, arsonists set the bunker on fire.</s><pad><pad><pad><pad><pad><pad>',\n",
       " '</s><s>After she has finished her wrestling career, James plans to own a farm and be an</s>',\n",
       " '</s><s>The new government in 1816 created the districts Steinfurt and Tecklenburg</s>',\n",
       " '</s><s>Add an appropriate copyright notice for your modifications adjacent to the other copyright notices.</s><pad><pad>',\n",
       " '</s><s>Above the boxes, La Scala has always had a gallery where the less wealthy can watch</s>',\n",
       " '</s><s>It is situated 44 miles (71 km) northeast of Pittsburgh, along the east bank</s>',\n",
       " '</s><s>Initially elastic sweatbands were issued to each street crime unit member, based on the chosen</s>',\n",
       " '</s><s>Solar thermal power plants can generally be built in a few years because solar plants are built</s>',\n",
       " '</s><s>Daniel Waters also gained recognition for his screenplay, which won a 1990 Edgar Award.</s><pad>',\n",
       " '</s><s>The Official Municipality Characteristic Number or Municipality Code Number, is a number sequence</s>',\n",
       " '</s><s>At least 537 deaths were blamed on Hanna, primarily in Haiti.</s><pad><pad><pad>',\n",
       " '</s><s>The term most commonly refers to higher plants, but epiphytic bacteria, fungi</s>',\n",
       " '</s><s>In 2005, Stallone also inducted wrestling icon Hulk Hogan, who appeared in Rocky</s>',\n",
       " '</s><s>Even if a contribution violates the precise wording of a rule, it might still be a</s>',\n",
       " '</s><s>They must try to find a way home by using plotholes to teleport between dimensional</s>',\n",
       " '</s><s>When Bonham Carter was just five, her mother had a serious nervous breakdown, from</s>',\n",
       " '</s><s>All members of this genus were once considered part of the same species, Calomys</s>',\n",
       " '</s><s>Neodymium is a chemical element with the symbol Nd and atomic number 60</s>',\n",
       " '</s><s>More formally, vorticity can be related to the amount of \"circulation\"</s>',\n",
       " '</s><s>Fluctuations of this line can be described by oscillations of a very small</s>',\n",
       " '</s><s>In biology and demography, fecundity is the potential reproductive capacity of an organism</s>',\n",
       " '</s><s>Stone Cold then dragged a referee into the ring, but in a swerve, kicked</s>',\n",
       " '</s><s>In February 1942, he was hospitalized, later claiming that this was due to a nervous</s>',\n",
       " '</s><s>Woodland may support an understory of shrubs and herbaceous plants including grasses</s>',\n",
       " \"</s><s>It has a black bill, crimson eyes, and a call reminiscent of a dog's</s>\",\n",
       " '</s><s>What the Spaniards then called \"chocolatl\" was said to be a beverage</s>',\n",
       " '</s><s>Some of the animals weighed as much as 700 kg (1,500 lb) or</s>',\n",
       " '</s><s>These exist, conjoined with starch, in the endosperms of some grass</s>',\n",
       " '</s><s>Eraldo Pecci (born 12 April 1955) is an Italian former footballer.</s>',\n",
       " '</s><s>The bells of Lüdinghausen allegedly chimed by themselves, whenever Liud</s>',\n",
       " '</s><s>A Feast for Crows is the fourth of seven planned novels in A Song of Ice</s>']"
      ]
     },
     "execution_count": 9,
     "metadata": {},
     "output_type": "execute_result"
    }
   ],
   "source": [
    "# Use the model to generate outputs\n",
    "test_output = trainer.predict(dataset_testfile['train'])\n",
    "tokenizer.batch_decode(test_output.predictions)"
   ]
  },
  {
   "cell_type": "code",
   "execution_count": null,
   "metadata": {},
   "outputs": [],
   "source": []
  }
 ],
 "metadata": {
  "kernelspec": {
   "display_name": "simplification",
   "language": "python",
   "name": "python3"
  },
  "language_info": {
   "codemirror_mode": {
    "name": "ipython",
    "version": 3
   },
   "file_extension": ".py",
   "mimetype": "text/x-python",
   "name": "python",
   "nbconvert_exporter": "python",
   "pygments_lexer": "ipython3",
   "version": "3.8.0"
  },
  "orig_nbformat": 4,
  "vscode": {
   "interpreter": {
    "hash": "214043a0d2697caa9b2bb5a2a9348566184462c89a848b88887d7ed532b15721"
   }
  }
 },
 "nbformat": 4,
 "nbformat_minor": 2
}

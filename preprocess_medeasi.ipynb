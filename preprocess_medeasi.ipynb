{
 "cells": [
  {
   "cell_type": "code",
   "execution_count": 1,
   "metadata": {},
   "outputs": [
    {
     "name": "stderr",
     "output_type": "stream",
     "text": [
      "Found cached dataset csv (/home/lyf6/.cache/huggingface/datasets/cbasu___csv/cbasu--Med-EASi-186ef27a7e7c7aac/0.0.0/6954658bab30a358235fa864b05cf819af0e179325c740e4bc853bcc7ec513e1)\n"
     ]
    },
    {
     "data": {
      "application/vnd.jupyter.widget-view+json": {
       "model_id": "6576721943b84284b43ec75f46701db9",
       "version_major": 2,
       "version_minor": 0
      },
      "text/plain": [
       "  0%|          | 0/3 [00:00<?, ?it/s]"
      ]
     },
     "metadata": {},
     "output_type": "display_data"
    }
   ],
   "source": [
    "from datasets import load_dataset\n",
    "import json\n",
    "import pandas as pd\n",
    "\n",
    "dataset = load_dataset(\"cbasu/Med-EASi\")\n",
    "\n",
    "def write_json(output_json, path):\n",
    "    json_object = json.dumps(output_json, indent=4)\n",
    "    with open(path, \"w\") as outfile:\n",
    "        outfile.write(json_object)\n",
    "\n",
    "def extract_data(df):\n",
    "    return [\n",
    "        {\n",
    "            \"input\": row[\"input\"],\n",
    "            \"labels\": [row[\"labels\"]],\n",
    "            \"report_id\": row[\"report_id\"],\n",
    "        }\n",
    "        for i, row in df.copy().iterrows()\n",
    "    ]"
   ]
  },
  {
   "cell_type": "code",
   "execution_count": 2,
   "metadata": {},
   "outputs": [],
   "source": [
    "df_train = pd.DataFrame({\"input\": dataset['train']['Expert'],\n",
    "  \"labels\": dataset['train']['Simple'],\n",
    "  \"report_id\": dataset['train']['idx']})\n",
    "df_test  = pd.DataFrame({\"input\": dataset['test']['Expert'],\n",
    "  \"labels\": dataset['test']['Simple'],\n",
    "  \"report_id\": dataset['test']['idx']})"
   ]
  },
  {
   "cell_type": "code",
   "execution_count": 3,
   "metadata": {},
   "outputs": [],
   "source": [
    "df = {\"train\": extract_data(df_train), \"test\": extract_data(df_test)}"
   ]
  },
  {
   "cell_type": "code",
   "execution_count": 5,
   "metadata": {},
   "outputs": [],
   "source": [
    "write_json(output_json = df, path = \"data/medeasi.json\")\n",
    "write_json(output_json = df, path = \"data/medeasi_multiple.json\")"
   ]
  },
  {
   "cell_type": "code",
   "execution_count": null,
   "metadata": {},
   "outputs": [],
   "source": []
  }
 ],
 "metadata": {
  "kernelspec": {
   "display_name": "simplification",
   "language": "python",
   "name": "python3"
  },
  "language_info": {
   "codemirror_mode": {
    "name": "ipython",
    "version": 3
   },
   "file_extension": ".py",
   "mimetype": "text/x-python",
   "name": "python",
   "nbconvert_exporter": "python",
   "pygments_lexer": "ipython3",
   "version": "3.8.16"
  },
  "orig_nbformat": 4
 },
 "nbformat": 4,
 "nbformat_minor": 2
}

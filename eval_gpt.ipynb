{
 "cells": [
  {
   "cell_type": "code",
   "execution_count": 8,
   "metadata": {},
   "outputs": [],
   "source": [
    "import random\n",
    "from collections import Counter\n",
    "from datasets import load_dataset\n",
    "from utils_eval import compute_metrics"
   ]
  },
  {
   "cell_type": "code",
   "execution_count": 9,
   "metadata": {},
   "outputs": [
    {
     "name": "stderr",
     "output_type": "stream",
     "text": [
      "Found cached dataset json (/home/lyf6/.cache/huggingface/datasets/json/default-3e77b6eb19a9cf24/0.0.0/e347ab1c932092252e717ff3f949105a4dd28b27e842dd53157d2f72e276c2e4)\n"
     ]
    },
    {
     "data": {
      "application/vnd.jupyter.widget-view+json": {
       "model_id": "64fa27d353f24889a3fc7e99a9cb393f",
       "version_major": 2,
       "version_minor": 0
      },
      "text/plain": [
       "  0%|          | 0/1 [00:00<?, ?it/s]"
      ]
     },
     "metadata": {},
     "output_type": "display_data"
    },
    {
     "name": "stderr",
     "output_type": "stream",
     "text": [
      "Found cached dataset json (/home/lyf6/.cache/huggingface/datasets/json/default-87857d9cfca7f072/0.0.0/e347ab1c932092252e717ff3f949105a4dd28b27e842dd53157d2f72e276c2e4)\n"
     ]
    },
    {
     "data": {
      "application/vnd.jupyter.widget-view+json": {
       "model_id": "fc4e12d3843e4fdf9dde07adadad91be",
       "version_major": 2,
       "version_minor": 0
      },
      "text/plain": [
       "  0%|          | 0/1 [00:00<?, ?it/s]"
      ]
     },
     "metadata": {},
     "output_type": "display_data"
    }
   ],
   "source": [
    "# Get dataset from arguments\n",
    "\n",
    "results = {}\n",
    "set_to_use = \"test\"\n",
    "\n",
    "DATASET_NAME = \"asset_full\"\n",
    "lst = [\n",
    "    \"output/asset_drop_ex_bart_xsum_ep1.txt\",\n",
    "    \"output/asset_drop_sent_bart_xsum_ep1.txt\"\n",
    "    # \"output/cochrane_full_bart_xsum_1ep_80pct.txt\",\n",
    "    # \"output/cochrane_full_bart_xsum_3ep_80pct.txt\",\n",
    "    # \"output/cochrane_full_bart_xsum_5ep_80pct.txt\",\n",
    "    # \"output/medeasi_bart_xsum_cutoff_1ep.txt\",\n",
    "    # \"output/medeasi_bart_xsum_cutoff_3ep.txt\",\n",
    "    # \"output/medeasi_bart_xsum_cutoff_5ep.txt\"\n",
    "    # \"output/cochrane_full_bart_xsum_cutoff_1.0_0.0_1ep.txt\",\n",
    "    # \"output/cochrane_full_bart_xsum_cutoff_1.0_0.0_3ep.txt\",\n",
    "    # \"output/cochrane_full_bart_xsum_cutoff_1.0_0.0_5ep.txt\"\n",
    "    # \"output/sota/in_domain/cnn_full_bart_xsum.txt\",\n",
    "    # \"output/mi/cnn_full_bart_xsum_lt_1ep.txt\"\n",
    "    # \"output/cutoff/cochrane_full_bart_xsum_cutoff_from_base_1.0_0.0_1ep.txt\"\n",
    "    # \"output/sota/in_domain/xsum_full_bart_xsum_no_finetune.txt\",\n",
    "    # \"output/sota/in_domain/xsum_full_bart_xsum_finetune1ep.txt\",\n",
    "    # \"output/mi/xsum_full_bart_xsum_lt_1ep.txt\"\n",
    "    # \"/home/lyf6/simplification-project/output/sota/in_domain/asset_full_bart_xsum.txt\",\n",
    "    # \"/home/lyf6/simplification-project/muss/muss_system_outputs/en/asset/test/muss_bart_access_wikilarge/25681095.pred\",\n",
    "    # \"/home/lyf6/simplification-project/muss/muss_system_outputs/en/asset/test/muss_bart_access_wikilarge_mined/25589239.pred\",\n",
    "    # \"/home/lyf6/simplification-project/output/mi/asset_full_bart_xsum_lt_1ep.txt\"\n",
    "    # \"output/mi/medeasi_bart_xsum_lt_1ep.txt\"\n",
    "    # \"output/mi/cochrane_full_bart_xsum_lt_1ep.txt\"\n",
    "    # \"output/cochrane_full_trainset_bart_xsum_ul_inp_lab.txt\"\n",
    "    # \"output/mi/medeasi_bart_xsum_rej_1ep.txt\"\n",
    "    # \"output/sota/in_domain/medeasi_bart_napss.txt\"\n",
    "    # \"output/cochrane_full_aug_ents_bart_xsum_3ep.txt\"\n",
    "    # \"output/cochrane_full_aug_ents_bart_xsum_1ep.txt\"\n",
    "    # \"output/cochrane_full_bart_xsum_copy.txt\"\n",
    "    # \"output/cochrane_full_bart_xsum_mi_exp_loss.txt\"\n",
    "    # \"output/cochrane_full_bart_xsum_remv_unk.txt\"\n",
    "    # \"output/cochrane_full_bart_xsum_mi_ul_150_milabels.txt\",\n",
    "    # \"output/cochrane_full_bart_xsum_mi_ul_exp_loss.txt\",\n",
    "    # \"output/cochrane_full_bart_xsum_mi_ul_mi_both_ul150_cut0k.txt\",\n",
    "    # \"output/cochrane_full_bart_xsum_mi_ul_mi_labels_ul150.txt\"\n",
    "    # \"output/cochrane_full_bart_xsum_ul_lt_0.8_7k_cut3.5k.txt\"\n",
    "    # \"output/cochrane_full_bart_xsum_ul_ent_cut3.5k.txt\",\n",
    "    # \"output/cochrane_full_bart_xsum_ul_ent_cut10.5k.txt\"\n",
    "    # \"output/cochrane_full_bart_xsum_drop_unk_mi_1e2.txt\"\n",
    "    # \"output/cochrane_full_bart_xsum_mi_1e2_gen.txt\"\n",
    "    # \"output/cochrane_full_bart_xsum_0.8_10k.txt\",\n",
    "    # \"output/cochrane_full_bart_xsum_cut3k.txt\",\n",
    "    # \"output/cochrane_full_bart_xsum_drop_unk.txt\"\n",
    "    # \"output/cochrane_full_bart_xsum_with_unk_clean.txt\"\n",
    "    # \"output/cochrane_full_bart_xsum_drop_unk_ul_inp_lab.txt\"\n",
    "]\n",
    "    # \"output/cochrane_full_bart_xsum_0.4_1k.txt\",\n",
    "    # \"output/cochrane_full_bart_xsum_0.8_1k.txt\",\n",
    "    # \"output/cochrane_full_bart_xsum_0.8_3k.txt\",\n",
    "    # \"output/cochrane_full_bart_xsum_cut.txt\",\n",
    "    # \"output/sota/out_of_domain/radiology_full_bart_xsum_ood.txt\",\n",
    "    # \"output/sota/out_of_domain/radiology_full_bart_both_ul.txt\",\n",
    "    # \"output/sota/out_of_domain/radiology_full_bart_napss.txt\",\n",
    "    # \"output/ul/out_of_domain/radiology_full_bart_xsum_ul_inp_lab.txt\",\n",
    "    # \"output/decode/out_of_domain/radiology_full_bart_xsum_nb4_fk3_bs5_ood.txt\",\n",
    "    # \"output/decode/out_of_domain/radiology_full_bart_xsum_nb4_fk3_bs5_ul_ood.txt\"\n",
    "# PREDS_PATH = \"output/cochrane_full_bart_xsum_ul_inp_lab_00075_00015_ep3.txt\"\n",
    "# PREDS_PATH   = \"output/archived/cochrane_full_bart_xsum_ul_inp_lab_00020_00010.txt\" # 24 yes\n",
    "\n",
    "dataset = load_dataset(\n",
    "    \"json\", data_files=f\"data/{DATASET_NAME}_multiple.json\", field=\"train\"\n",
    ")\n",
    "dataset[\"test\"] = load_dataset(\n",
    "    \"json\", data_files=f\"data/{DATASET_NAME}_multiple.json\", field=\"test\"\n",
    ")[\"train\"]\n",
    "\n",
    "sources = [item[\"input\"]  for item in dataset[set_to_use]]\n",
    "labels  = [item[\"labels\"] for item in dataset[set_to_use]]\n",
    "\n",
    "# sources = sources[:50]\n",
    "# labels  = labels[:50]"
   ]
  },
  {
   "cell_type": "code",
   "execution_count": 10,
   "metadata": {},
   "outputs": [],
   "source": [
    "for PREDS_PATH in lst:\n",
    "\n",
    "    with open(PREDS_PATH) as f:\n",
    "        preds = f.read().splitlines()\n",
    "\n",
    "    preds = preds[:50]\n",
    "\n",
    "    result = compute_metrics(\n",
    "        sources,\n",
    "        preds,\n",
    "        labels,\n",
    "        [\n",
    "            \"geval-4\", # \n",
    "        ],\n",
    "    )\n",
    "\n",
    "    results[PREDS_PATH] = result['geval']"
   ]
  },
  {
   "cell_type": "code",
   "execution_count": 11,
   "metadata": {},
   "outputs": [
    {
     "name": "stdout",
     "output_type": "stream",
     "text": [
      "output/asset_drop_ex_bart_xsum_ep1.txt Counter({'No': 42, 'Yes': 8})\n",
      "output/asset_drop_sent_bart_xsum_ep1.txt Counter({'No': 38, 'Yes': 12})\n"
     ]
    }
   ],
   "source": [
    "for key in results.keys():\n",
    "    print(key, results[key][1])"
   ]
  },
  {
   "cell_type": "code",
   "execution_count": null,
   "metadata": {},
   "outputs": [],
   "source": [
    "for key in results:\n",
    "    file = open(\"gexplain_\" + key.split(\"/\")[-1], \"w\")\n",
    "    for item in results[key]:\n",
    "        file.write(item+\"\\n\")\n",
    "    file.close()\n"
   ]
  },
  {
   "cell_type": "code",
   "execution_count": null,
   "metadata": {},
   "outputs": [],
   "source": [
    "# import pandas as pd\n",
    "\n",
    "# DATASET = \"xsum\"\n",
    "\n",
    "# temp  = pd.read_csv(f\"nli/experiment_{DATASET}_baseline.csv\")\n",
    "# temp2 = pd.read_csv(f\"nli/experiment_{DATASET}_trained.csv\")\n",
    "\n",
    "# idxs = list(range(0,500))\n",
    "\n",
    "# result = compute_metrics(\n",
    "#     [sources[idx] for idx in idxs],\n",
    "#     [labels[idx][0] for idx in idxs],\n",
    "#     [labels[idx] for idx in idxs],\n",
    "#     [\n",
    "#         \"geval-4\", # \n",
    "#     ],\n",
    "# )\n",
    "\n",
    "# temp.loc[list(range(0,500)), \n",
    "#          \"nli_flag_gpt_label\"] = result['geval'][0]\n",
    "# temp['nli_flag_gpt_label'][:500].value_counts()\n",
    "\n",
    "# temp.to_csv(f\"nli/experiment_{DATASET}_baseline.csv\", index=False)\n",
    "# temp2.loc[:500, \"nli_flag_gpt_label\"] = temp.loc[:500, \"nli_flag_gpt_label\"]\n",
    "# temp2.loc[:500, \"nli_flag_gpt_label\"]\n",
    "# temp2.to_csv(f\"nli/experiment_{DATASET}_trained.csv\", index=False)"
   ]
  },
  {
   "attachments": {},
   "cell_type": "markdown",
   "metadata": {},
   "source": [
    "Paper Results\n",
    "* BART XSum:  Counter({'No': 40, 'Yes': 10}))\n",
    "* NAPSS: Counter({'No': 29, 'Yes': 21}))\n",
    "* BART-UL: Counter({'No': 35, 'Yes': 15}))\n",
    "* GPT\n",
    "* Decoder (Beam 4, Kill Only): Counter({'No': 39, 'Yes': 11}))\n",
    "* Decoder (Beam 4, FK=5, BS=10): Counter({'No': 36, 'Yes': 14}))\n",
    "* Decoder (Beam 4, FK=4, BS=10): Counter({'No': 30, 'Yes': 20}))\n",
    "* Decoder (Beam 4, FK=3, BS=10): Counter({'No': 27, 'Yes': 23}))\n",
    "* Decoder (Beam 4, FK=3, BS=5):  Counter({'No': 30, 'Yes': 20})\n",
    "* Decoder (Beam 3, FK=3, BS=10): Counter({'No': 30, 'Yes': 20}))\n",
    "* Decoder (Beam 2, FK=3, BS=10): Counter({'No': 26, 'Yes': 23, '': 1}))\n",
    "* UL Read + Inp Lab: Counter({'No': 21, 'Yes': 27, '': 2}))\n",
    "* UL Inp Lab:  Counter({'Yes': 16, 'No': 34}))\n",
    "* UL Read: Counter({'No': 9, 'Yes': 41}))\n",
    "\n",
    "Test Results\n",
    "* BART XSum Plain Counter({'No.': 19, 'Yes': 6})\n",
    "* Decode 4:  Counter({'No': 12, 'Yes': 13}))\n",
    "* Decode 3: Counter({'No': 21, 'Yes': 4})\n",
    "* Decode 2: Counter({'No': 20, 'Yes': 5})\n"
   ]
  },
  {
   "cell_type": "code",
   "execution_count": null,
   "metadata": {},
   "outputs": [
    {
     "name": "stdout",
     "output_type": "stream",
     "text": [
      "output/sota/out_of_domain/radiology_full_bart_xsum_ood.txt Counter({'No': 25, 'Yes': 25})\n",
      "output/sota/out_of_domain/radiology_full_bart_both_ul.txt Counter({'Yes': 40, 'No': 10})\n",
      "output/sota/out_of_domain/radiology_full_bart_napss.txt Counter({'Yes': 35, 'No': 15})\n",
      "output/ul/out_of_domain/radiology_full_bart_xsum_ul_inp_lab.txt Counter({'Yes': 42, 'No': 8})\n",
      "output/decode/out_of_domain/radiology_full_bart_xsum_nb4_fk3_bs5_ood.txt Counter({'Yes': 41, 'No': 9})\n",
      "output/decode/out_of_domain/radiology_full_bart_xsum_nb4_fk3_bs5_ul_ood.txt Counter({'Yes': 43, 'No': 7})\n"
     ]
    }
   ],
   "source": [
    "for k in results.keys():\n",
    "    print(k, results[k][1])"
   ]
  },
  {
   "attachments": {},
   "cell_type": "markdown",
   "metadata": {},
   "source": [
    "## MedEasi\n",
    "* output/sota/out_of_domain/medeasi_bart_xsum_ood.txt Counter({'No': 31, 'Yes': 19})\n",
    "* output/sota/out_of_domain/medeasi_bart_xsum_both_ul.txt Counter({'No': 27, 'Yes': 23})\n",
    "* output/sota/out_of_domain/medeasi_bart_xsum_napss.txt Counter({'No': 36, 'Yes': 14})\n",
    "* output/ul/out_of_domain/medeasi_bart_xsum_ul_inp_lab.txt Counter({'Yes': 32, 'No': 18})\n",
    "* output/decode/out_of_domain/medeasi_bart_xsum_nb4_fk3_bs5_ood.txt Counter({'Yes': 30, 'No': 20})\n",
    "* output/decode/out_of_domain/medeasi_bart_xsum_nb4_fk3_bs5_ul_ood.txt Counter({'Yes': 37, 'No': 13})\n",
    "\n",
    "## Radiology\n",
    "* output/sota/out_of_domain/radiology_full_bart_xsum_ood.txt Counter({'No': 25, 'Yes': 25})\n",
    "* output/sota/out_of_domain/radiology_full_bart_both_ul.txt Counter({'Yes': 40, 'No': 10})\n",
    "* output/sota/out_of_domain/radiology_full_bart_napss.txt Counter({'Yes': 35, 'No': 15})\n",
    "* output/ul/out_of_domain/radiology_full_bart_xsum_ul_inp_lab.txt Counter({'Yes': 42, 'No': 8})\n",
    "* output/decode/out_of_domain/radiology_full_bart_xsum_nb4_fk3_bs5_ood.txt Counter({'Yes': 41, 'No': 9})\n",
    "* output/decode/out_of_domain/radiology_full_bart_xsum_nb4_fk3_bs5_ul_ood.txt Counter({'Yes': 43, 'No': 7})"
   ]
  },
  {
   "cell_type": "code",
   "execution_count": null,
   "metadata": {},
   "outputs": [],
   "source": []
  }
 ],
 "metadata": {
  "kernelspec": {
   "display_name": "simplification",
   "language": "python",
   "name": "python3"
  },
  "language_info": {
   "codemirror_mode": {
    "name": "ipython",
    "version": 3
   },
   "file_extension": ".py",
   "mimetype": "text/x-python",
   "name": "python",
   "nbconvert_exporter": "python",
   "pygments_lexer": "ipython3",
   "version": "3.8.16"
  },
  "orig_nbformat": 4
 },
 "nbformat": 4,
 "nbformat_minor": 2
}

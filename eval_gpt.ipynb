{
 "cells": [
  {
   "cell_type": "code",
   "execution_count": 1,
   "metadata": {},
   "outputs": [],
   "source": [
    "import random\n",
    "from collections import Counter\n",
    "from datasets import load_dataset\n",
    "from utils_eval import compute_metrics"
   ]
  },
  {
   "cell_type": "code",
   "execution_count": 2,
   "metadata": {},
   "outputs": [
    {
     "name": "stderr",
     "output_type": "stream",
     "text": [
      "Found cached dataset json (/home/lyf6/.cache/huggingface/datasets/json/default-00bb8c3765a56f40/0.0.0/e347ab1c932092252e717ff3f949105a4dd28b27e842dd53157d2f72e276c2e4)\n"
     ]
    },
    {
     "data": {
      "application/vnd.jupyter.widget-view+json": {
       "model_id": "a491c510a0dc480581239e4a22c4e05f",
       "version_major": 2,
       "version_minor": 0
      },
      "text/plain": [
       "  0%|          | 0/1 [00:00<?, ?it/s]"
      ]
     },
     "metadata": {},
     "output_type": "display_data"
    },
    {
     "name": "stderr",
     "output_type": "stream",
     "text": [
      "Found cached dataset json (/home/lyf6/.cache/huggingface/datasets/json/default-1f3dd5b99add770c/0.0.0/e347ab1c932092252e717ff3f949105a4dd28b27e842dd53157d2f72e276c2e4)\n"
     ]
    },
    {
     "data": {
      "application/vnd.jupyter.widget-view+json": {
       "model_id": "02d14d8c6055499caeac5ef1e08862c5",
       "version_major": 2,
       "version_minor": 0
      },
      "text/plain": [
       "  0%|          | 0/1 [00:00<?, ?it/s]"
      ]
     },
     "metadata": {},
     "output_type": "display_data"
    }
   ],
   "source": [
    "# Get dataset from arguments\n",
    "\n",
    "results = {}\n",
    "\n",
    "DATASET_NAME = \"radiology_full\"\n",
    "lst = [\n",
    "    \"output/sota/out_of_domain/radiology_full_bart_xsum_ood.txt\",\n",
    "    \"output/sota/out_of_domain/radiology_full_bart_both_ul.txt\",\n",
    "    \"output/sota/out_of_domain/radiology_full_bart_napss.txt\",\n",
    "    \"output/ul/out_of_domain/radiology_full_bart_xsum_ul_inp_lab.txt\",\n",
    "    \"output/decode/out_of_domain/radiology_full_bart_xsum_nb4_fk3_bs5_ood.txt\",\n",
    "    \"output/decode/out_of_domain/radiology_full_bart_xsum_nb4_fk3_bs5_ul_ood.txt\"]\n",
    "# PREDS_PATH = \"output/cochrane_full_bart_xsum_ul_inp_lab_00075_00015_ep3.txt\"\n",
    "# PREDS_PATH   = \"output/archived/cochrane_full_bart_xsum_ul_inp_lab_00020_00010.txt\" # 24 yes\n",
    "\n",
    "dataset = load_dataset(\n",
    "    \"json\", data_files=f\"data/{DATASET_NAME}_multiple.json\", field=\"train\"\n",
    ")\n",
    "dataset[\"test\"] = load_dataset(\n",
    "    \"json\", data_files=f\"data/{DATASET_NAME}_multiple.json\", field=\"test\"\n",
    ")[\"train\"]\n",
    "\n",
    "sources = [item[\"input\"] for item in dataset[\"test\"]]\n",
    "labels  = [item[\"labels\"] for item in dataset[\"test\"]]\n",
    "\n",
    "sources = sources[:50]\n",
    "labels  = labels[:50]\n",
    "\n",
    "for PREDS_PATH in lst:\n",
    "\n",
    "    with open(PREDS_PATH) as f:\n",
    "        preds = f.read().splitlines()\n",
    "\n",
    "    preds = preds[:50]\n",
    "\n",
    "    result = compute_metrics(\n",
    "        sources,\n",
    "        preds,\n",
    "        labels,\n",
    "        [\n",
    "            \"geval-4\",\n",
    "        ],\n",
    "    )\n",
    "\n",
    "    results[PREDS_PATH] = result['geval']"
   ]
  },
  {
   "cell_type": "code",
   "execution_count": null,
   "metadata": {},
   "outputs": [],
   "source": []
  },
  {
   "attachments": {},
   "cell_type": "markdown",
   "metadata": {},
   "source": [
    "Paper Results\n",
    "* BART XSum:  Counter({'No': 40, 'Yes': 10}))\n",
    "* NAPSS: Counter({'No': 29, 'Yes': 21}))\n",
    "* BART-UL: Counter({'No': 35, 'Yes': 15}))\n",
    "* GPT\n",
    "* Decoder (Beam 4, Kill Only): Counter({'No': 39, 'Yes': 11}))\n",
    "* Decoder (Beam 4, FK=5, BS=10): Counter({'No': 36, 'Yes': 14}))\n",
    "* Decoder (Beam 4, FK=4, BS=10): Counter({'No': 30, 'Yes': 20}))\n",
    "* Decoder (Beam 4, FK=3, BS=10): Counter({'No': 27, 'Yes': 23}))\n",
    "* Decoder (Beam 4, FK=3, BS=5):  Counter({'No': 30, 'Yes': 20})\n",
    "* Decoder (Beam 3, FK=3, BS=10): Counter({'No': 30, 'Yes': 20}))\n",
    "* Decoder (Beam 2, FK=3, BS=10): Counter({'No': 26, 'Yes': 23, '': 1}))\n",
    "* UL Read + Inp Lab: Counter({'No': 21, 'Yes': 27, '': 2}))\n",
    "* UL Inp Lab:  Counter({'Yes': 16, 'No': 34}))\n",
    "* UL Read: Counter({'No': 9, 'Yes': 41}))\n",
    "\n",
    "Test Results\n",
    "* BART XSum Plain Counter({'No.': 19, 'Yes': 6})\n",
    "* Decode 4:  Counter({'No': 12, 'Yes': 13}))\n",
    "* Decode 3: Counter({'No': 21, 'Yes': 4})\n",
    "* Decode 2: Counter({'No': 20, 'Yes': 5})\n"
   ]
  },
  {
   "cell_type": "code",
   "execution_count": 4,
   "metadata": {},
   "outputs": [
    {
     "name": "stdout",
     "output_type": "stream",
     "text": [
      "output/sota/out_of_domain/radiology_full_bart_xsum_ood.txt Counter({'No': 25, 'Yes': 25})\n",
      "output/sota/out_of_domain/radiology_full_bart_both_ul.txt Counter({'Yes': 40, 'No': 10})\n",
      "output/sota/out_of_domain/radiology_full_bart_napss.txt Counter({'Yes': 35, 'No': 15})\n",
      "output/ul/out_of_domain/radiology_full_bart_xsum_ul_inp_lab.txt Counter({'Yes': 42, 'No': 8})\n",
      "output/decode/out_of_domain/radiology_full_bart_xsum_nb4_fk3_bs5_ood.txt Counter({'Yes': 41, 'No': 9})\n",
      "output/decode/out_of_domain/radiology_full_bart_xsum_nb4_fk3_bs5_ul_ood.txt Counter({'Yes': 43, 'No': 7})\n"
     ]
    }
   ],
   "source": [
    "for k in results.keys():\n",
    "    print(k, results[k][1])"
   ]
  },
  {
   "attachments": {},
   "cell_type": "markdown",
   "metadata": {},
   "source": [
    "## MedEasi\n",
    "* output/sota/out_of_domain/medeasi_bart_xsum_ood.txt Counter({'No': 31, 'Yes': 19})\n",
    "* output/sota/out_of_domain/medeasi_bart_xsum_both_ul.txt Counter({'No': 27, 'Yes': 23})\n",
    "* output/sota/out_of_domain/medeasi_bart_xsum_napss.txt Counter({'No': 36, 'Yes': 14})\n",
    "* output/ul/out_of_domain/medeasi_bart_xsum_ul_inp_lab.txt Counter({'Yes': 32, 'No': 18})\n",
    "* output/decode/out_of_domain/medeasi_bart_xsum_nb4_fk3_bs5_ood.txt Counter({'Yes': 30, 'No': 20})\n",
    "* output/decode/out_of_domain/medeasi_bart_xsum_nb4_fk3_bs5_ul_ood.txt Counter({'Yes': 37, 'No': 13})\n",
    "\n",
    "## Radiology\n",
    "* output/sota/out_of_domain/radiology_full_bart_xsum_ood.txt Counter({'No': 25, 'Yes': 25})\n",
    "* output/sota/out_of_domain/radiology_full_bart_both_ul.txt Counter({'Yes': 40, 'No': 10})\n",
    "* output/sota/out_of_domain/radiology_full_bart_napss.txt Counter({'Yes': 35, 'No': 15})\n",
    "* output/ul/out_of_domain/radiology_full_bart_xsum_ul_inp_lab.txt Counter({'Yes': 42, 'No': 8})\n",
    "* output/decode/out_of_domain/radiology_full_bart_xsum_nb4_fk3_bs5_ood.txt Counter({'Yes': 41, 'No': 9})\n",
    "* output/decode/out_of_domain/radiology_full_bart_xsum_nb4_fk3_bs5_ul_ood.txt Counter({'Yes': 43, 'No': 7})"
   ]
  },
  {
   "cell_type": "code",
   "execution_count": null,
   "metadata": {},
   "outputs": [],
   "source": []
  }
 ],
 "metadata": {
  "kernelspec": {
   "display_name": "simplification",
   "language": "python",
   "name": "python3"
  },
  "language_info": {
   "codemirror_mode": {
    "name": "ipython",
    "version": 3
   },
   "file_extension": ".py",
   "mimetype": "text/x-python",
   "name": "python",
   "nbconvert_exporter": "python",
   "pygments_lexer": "ipython3",
   "version": "3.8.16"
  },
  "orig_nbformat": 4
 },
 "nbformat": 4,
 "nbformat_minor": 2
}

{
 "cells": [
  {
   "cell_type": "code",
   "execution_count": 1,
   "metadata": {},
   "outputs": [],
   "source": [
    "import json\n",
    "import random\n",
    "import pandas as pd\n",
    "\n",
    "inputs = json.load(open(\"data/cochrane_multiple.json\"))[\"test\"]\n",
    "\n",
    "output_list = [\"output/cochrane_bart.txt\", \"output/cochrane_flant5_base.txt\", \"output/cochrane_gpt4_basic_128.txt\"]\n",
    "output_list = [open(f, \"r\").read().split('\\n')[:len(inputs)] for f in output_list]\n",
    "\n",
    "order = list(range(len(output_list)))\n",
    "\n",
    "result = []\n",
    "for idx, x in enumerate(zip(inputs, *output_list)):\n",
    "    input_dict, outputs = x[0], x[1:]\n",
    "    input_sent = input_dict['input']\n",
    "    input_label = input_dict['labels']\n",
    "    random.shuffle(order)\n",
    "    outputs = [outputs[idx] for idx in order]\n",
    "    result.append((idx, input_sent, input_label, outputs, order))\n",
    "    \n",
    "df = pd.DataFrame(result, columns=['id','input','human_written','model_written','order'])\n",
    "# df.to_csv(\"test.csv\", index=False)"
   ]
  },
  {
   "cell_type": "code",
   "execution_count": 2,
   "metadata": {},
   "outputs": [],
   "source": [
    "chosen_samples = random.choices(list(range(len(result))), k=100)\n",
    "\n",
    "chosen_items = [result[i] for i in chosen_samples]\n",
    "\n",
    "final_html = \"\"\n",
    "\n",
    "for item in chosen_items:\n",
    "    idx, inpt, human_written, model_written, _ = item\n",
    "    model_written_html = \"\".join([f\"<li><b>Model {i}:</b> {s}</li>\\n\" for (i,s) in enumerate(model_written)])\n",
    "    complete_html = f\"\"\"\n",
    "    <h1>Report {idx}</h1>\n",
    "    <h4>Original</h4>\n",
    "    <p>{inpt}</p>\n",
    "    <h4>Human Written Version</h4>\n",
    "    <p>{human_written[0]}</p>\n",
    "    <h4>Model Written Versions</h4>\n",
    "    <ul>\n",
    "    {model_written_html}\n",
    "    </ul>\n",
    "    \"\"\"\n",
    "    final_html += complete_html"
   ]
  },
  {
   "cell_type": "code",
   "execution_count": 3,
   "metadata": {},
   "outputs": [],
   "source": [
    "# Creating an HTML file\n",
    "Func = open(\"eval_cochrane.html\",\"w\")\n",
    "   \n",
    "# Adding input data to the HTML file\n",
    "Func.write(final_html)\n",
    "              \n",
    "# Saving the data into the HTML file\n",
    "Func.close()"
   ]
  },
  {
   "cell_type": "code",
   "execution_count": null,
   "metadata": {},
   "outputs": [],
   "source": []
  }
 ],
 "metadata": {
  "kernelspec": {
   "display_name": "simplification",
   "language": "python",
   "name": "python3"
  },
  "language_info": {
   "codemirror_mode": {
    "name": "ipython",
    "version": 3
   },
   "file_extension": ".py",
   "mimetype": "text/x-python",
   "name": "python",
   "nbconvert_exporter": "python",
   "pygments_lexer": "ipython3",
   "version": "3.9.16"
  },
  "orig_nbformat": 4
 },
 "nbformat": 4,
 "nbformat_minor": 2
}
